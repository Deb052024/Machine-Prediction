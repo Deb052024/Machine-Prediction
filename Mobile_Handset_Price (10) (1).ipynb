{
 "cells": [
  {
   "cell_type": "markdown",
   "metadata": {
    "colab_type": "text",
    "id": "view-in-github"
   },
   "source": [
    "<a href=\"https://colab.research.google.com/github/Deb052024/Machine-Prediction/blob/main/Mobile_Handset_Price.ipynb\" target=\"_parent\"><img src=\"https://colab.research.google.com/assets/colab-badge.svg\" alt=\"Open In Colab\"/></a>"
   ]
  },
  {
   "cell_type": "code",
   "execution_count": 1,
   "metadata": {
    "id": "XHH4LkuD0uoH"
   },
   "outputs": [
    {
     "name": "stderr",
     "output_type": "stream",
     "text": [
      "C:\\Users\\Admin\\Anaconda3\\lib\\site-packages\\pandas\\core\\computation\\expressions.py:21: UserWarning: Pandas requires version '2.8.4' or newer of 'numexpr' (version '2.8.1' currently installed).\n",
      "  from pandas.core.computation.check import NUMEXPR_INSTALLED\n",
      "C:\\Users\\Admin\\Anaconda3\\lib\\site-packages\\pandas\\core\\arrays\\masked.py:60: UserWarning: Pandas requires version '1.3.6' or newer of 'bottleneck' (version '1.3.4' currently installed).\n",
      "  from pandas.core import (\n"
     ]
    }
   ],
   "source": [
    "import numpy as np\n",
    "import pandas as pd\n",
    "import matplotlib.pyplot as plt\n",
    "import seaborn as sns\n",
    "from sklearn.preprocessing import StandardScaler,LabelEncoder\n",
    "from sklearn.model_selection import train_test_split\n",
    "from sklearn.metrics import accuracy_score\n",
    "from sklearn.linear_model import LinearRegression\n",
    "from sklearn.impute import KNNImputer,SimpleImputer\n",
    "from sklearn.metrics import mean_absolute_error,mean_squared_error,r2_score\n",
    "import warnings\n",
    "warnings.filterwarnings('ignore')\n",
    "\n"
   ]
  },
  {
   "cell_type": "code",
   "execution_count": 2,
   "metadata": {
    "id": "naH7fyyN2k6u"
   },
   "outputs": [],
   "source": [
    "df=pd.read_excel('C:\\\\Users\\\\Admin\\\\Desktop\\\\Processed_Flipdata.xls')"
   ]
  },
  {
   "cell_type": "code",
   "execution_count": 3,
   "metadata": {
    "colab": {
     "base_uri": "https://localhost:8080/"
    },
    "id": "_wZRp5Gm22fC",
    "outputId": "800d6efe-8336-4cad-933b-4acdc582a8c2"
   },
   "outputs": [
    {
     "name": "stdout",
     "output_type": "stream",
     "text": [
      "<class 'pandas.core.frame.DataFrame'>\n",
      "RangeIndex: 541 entries, 0 to 540\n",
      "Data columns (total 12 columns):\n",
      " #   Column         Non-Null Count  Dtype  \n",
      "---  ------         --------------  -----  \n",
      " 0   Unnamed: 0     541 non-null    int64  \n",
      " 1   Model          541 non-null    object \n",
      " 2   Colour         541 non-null    object \n",
      " 3   Memory         541 non-null    int64  \n",
      " 4   RAM            541 non-null    int64  \n",
      " 5   Battery_       541 non-null    int64  \n",
      " 6   Rear Camera    541 non-null    object \n",
      " 7   Front Camera   541 non-null    object \n",
      " 8   AI Lens        541 non-null    int64  \n",
      " 9   Mobile Height  541 non-null    float64\n",
      " 10  Processor_     541 non-null    object \n",
      " 11  Prize          541 non-null    int64  \n",
      "dtypes: float64(1), int64(6), object(5)\n",
      "memory usage: 50.8+ KB\n"
     ]
    }
   ],
   "source": [
    "#info on the data set\n",
    "df.info()"
   ]
  },
  {
   "cell_type": "code",
   "execution_count": 4,
   "metadata": {
    "colab": {
     "base_uri": "https://localhost:8080/",
     "height": 460
    },
    "id": "8r8vqnxn22gr",
    "outputId": "64685f3e-3c8b-4bc0-8c0c-6f1895491a19"
   },
   "outputs": [
    {
     "data": {
      "text/plain": [
       "Unnamed: 0       0\n",
       "Model            0\n",
       "Colour           0\n",
       "Memory           0\n",
       "RAM              0\n",
       "Battery_         0\n",
       "Rear Camera      0\n",
       "Front Camera     0\n",
       "AI Lens          0\n",
       "Mobile Height    0\n",
       "Processor_       0\n",
       "Prize            0\n",
       "dtype: int64"
      ]
     },
     "execution_count": 4,
     "metadata": {},
     "output_type": "execute_result"
    }
   ],
   "source": [
    "#Null value check\n",
    "df.isnull().sum()"
   ]
  },
  {
   "cell_type": "code",
   "execution_count": 5,
   "metadata": {
    "colab": {
     "base_uri": "https://localhost:8080/",
     "height": 300
    },
    "id": "3P__wd9N22iI",
    "outputId": "30727c7c-6863-41b2-8de8-a67c1a06d0e3"
   },
   "outputs": [
    {
     "data": {
      "text/html": [
       "<div>\n",
       "<style scoped>\n",
       "    .dataframe tbody tr th:only-of-type {\n",
       "        vertical-align: middle;\n",
       "    }\n",
       "\n",
       "    .dataframe tbody tr th {\n",
       "        vertical-align: top;\n",
       "    }\n",
       "\n",
       "    .dataframe thead th {\n",
       "        text-align: right;\n",
       "    }\n",
       "</style>\n",
       "<table border=\"1\" class=\"dataframe\">\n",
       "  <thead>\n",
       "    <tr style=\"text-align: right;\">\n",
       "      <th></th>\n",
       "      <th>Unnamed: 0</th>\n",
       "      <th>Memory</th>\n",
       "      <th>RAM</th>\n",
       "      <th>Battery_</th>\n",
       "      <th>AI Lens</th>\n",
       "      <th>Mobile Height</th>\n",
       "      <th>Prize</th>\n",
       "    </tr>\n",
       "  </thead>\n",
       "  <tbody>\n",
       "    <tr>\n",
       "      <th>count</th>\n",
       "      <td>541.000000</td>\n",
       "      <td>541.000000</td>\n",
       "      <td>541.000000</td>\n",
       "      <td>541.000000</td>\n",
       "      <td>541.000000</td>\n",
       "      <td>541.000000</td>\n",
       "      <td>541.000000</td>\n",
       "    </tr>\n",
       "    <tr>\n",
       "      <th>mean</th>\n",
       "      <td>289.711645</td>\n",
       "      <td>110.550832</td>\n",
       "      <td>5.397412</td>\n",
       "      <td>4871.587800</td>\n",
       "      <td>0.062847</td>\n",
       "      <td>16.431201</td>\n",
       "      <td>16228.375231</td>\n",
       "    </tr>\n",
       "    <tr>\n",
       "      <th>std</th>\n",
       "      <td>182.359185</td>\n",
       "      <td>60.600694</td>\n",
       "      <td>1.984923</td>\n",
       "      <td>780.148862</td>\n",
       "      <td>0.242911</td>\n",
       "      <td>2.523553</td>\n",
       "      <td>10793.588322</td>\n",
       "    </tr>\n",
       "    <tr>\n",
       "      <th>min</th>\n",
       "      <td>0.000000</td>\n",
       "      <td>16.000000</td>\n",
       "      <td>2.000000</td>\n",
       "      <td>800.000000</td>\n",
       "      <td>0.000000</td>\n",
       "      <td>4.500000</td>\n",
       "      <td>920.000000</td>\n",
       "    </tr>\n",
       "    <tr>\n",
       "      <th>25%</th>\n",
       "      <td>135.000000</td>\n",
       "      <td>64.000000</td>\n",
       "      <td>4.000000</td>\n",
       "      <td>5000.000000</td>\n",
       "      <td>0.000000</td>\n",
       "      <td>16.510000</td>\n",
       "      <td>9290.000000</td>\n",
       "    </tr>\n",
       "    <tr>\n",
       "      <th>50%</th>\n",
       "      <td>273.000000</td>\n",
       "      <td>128.000000</td>\n",
       "      <td>6.000000</td>\n",
       "      <td>5000.000000</td>\n",
       "      <td>0.000000</td>\n",
       "      <td>16.710000</td>\n",
       "      <td>13499.000000</td>\n",
       "    </tr>\n",
       "    <tr>\n",
       "      <th>75%</th>\n",
       "      <td>434.000000</td>\n",
       "      <td>128.000000</td>\n",
       "      <td>8.000000</td>\n",
       "      <td>5000.000000</td>\n",
       "      <td>0.000000</td>\n",
       "      <td>16.940000</td>\n",
       "      <td>19280.000000</td>\n",
       "    </tr>\n",
       "    <tr>\n",
       "      <th>max</th>\n",
       "      <td>642.000000</td>\n",
       "      <td>256.000000</td>\n",
       "      <td>8.000000</td>\n",
       "      <td>7000.000000</td>\n",
       "      <td>1.000000</td>\n",
       "      <td>41.940000</td>\n",
       "      <td>80999.000000</td>\n",
       "    </tr>\n",
       "  </tbody>\n",
       "</table>\n",
       "</div>"
      ],
      "text/plain": [
       "       Unnamed: 0      Memory         RAM     Battery_     AI Lens  \\\n",
       "count  541.000000  541.000000  541.000000   541.000000  541.000000   \n",
       "mean   289.711645  110.550832    5.397412  4871.587800    0.062847   \n",
       "std    182.359185   60.600694    1.984923   780.148862    0.242911   \n",
       "min      0.000000   16.000000    2.000000   800.000000    0.000000   \n",
       "25%    135.000000   64.000000    4.000000  5000.000000    0.000000   \n",
       "50%    273.000000  128.000000    6.000000  5000.000000    0.000000   \n",
       "75%    434.000000  128.000000    8.000000  5000.000000    0.000000   \n",
       "max    642.000000  256.000000    8.000000  7000.000000    1.000000   \n",
       "\n",
       "       Mobile Height         Prize  \n",
       "count     541.000000    541.000000  \n",
       "mean       16.431201  16228.375231  \n",
       "std         2.523553  10793.588322  \n",
       "min         4.500000    920.000000  \n",
       "25%        16.510000   9290.000000  \n",
       "50%        16.710000  13499.000000  \n",
       "75%        16.940000  19280.000000  \n",
       "max        41.940000  80999.000000  "
      ]
     },
     "execution_count": 5,
     "metadata": {},
     "output_type": "execute_result"
    }
   ],
   "source": [
    "#EDA on the data set\n",
    "df.describe()"
   ]
  },
  {
   "cell_type": "code",
   "execution_count": 6,
   "metadata": {
    "colab": {
     "base_uri": "https://localhost:8080/"
    },
    "id": "B6gpIuGP22kD",
    "outputId": "55fc9517-ff73-4a01-90dc-7b527754a9d8"
   },
   "outputs": [
    {
     "data": {
      "text/plain": [
       "0"
      ]
     },
     "execution_count": 6,
     "metadata": {},
     "output_type": "execute_result"
    }
   ],
   "source": [
    "#Duplicate Value check\n",
    "df.duplicated().sum()"
   ]
  },
  {
   "cell_type": "code",
   "execution_count": 7,
   "metadata": {
    "id": "K2wpS3N434yJ"
   },
   "outputs": [],
   "source": [
    "#Renaming Prize Column to Price\n",
    "df.rename(columns={'Prize':'Price'},inplace=True)"
   ]
  },
  {
   "cell_type": "code",
   "execution_count": 8,
   "metadata": {
    "colab": {
     "base_uri": "https://localhost:8080/",
     "height": 206
    },
    "id": "OclDP1Hm71kO",
    "outputId": "61a0ca2e-e1e2-46df-cb0a-bd5011136a52"
   },
   "outputs": [
    {
     "data": {
      "text/html": [
       "<div>\n",
       "<style scoped>\n",
       "    .dataframe tbody tr th:only-of-type {\n",
       "        vertical-align: middle;\n",
       "    }\n",
       "\n",
       "    .dataframe tbody tr th {\n",
       "        vertical-align: top;\n",
       "    }\n",
       "\n",
       "    .dataframe thead th {\n",
       "        text-align: right;\n",
       "    }\n",
       "</style>\n",
       "<table border=\"1\" class=\"dataframe\">\n",
       "  <thead>\n",
       "    <tr style=\"text-align: right;\">\n",
       "      <th></th>\n",
       "      <th>Unnamed: 0</th>\n",
       "      <th>Model</th>\n",
       "      <th>Colour</th>\n",
       "      <th>Memory</th>\n",
       "      <th>RAM</th>\n",
       "      <th>Battery_</th>\n",
       "      <th>Rear Camera</th>\n",
       "      <th>Front Camera</th>\n",
       "      <th>AI Lens</th>\n",
       "      <th>Mobile Height</th>\n",
       "      <th>Processor_</th>\n",
       "      <th>Price</th>\n",
       "    </tr>\n",
       "  </thead>\n",
       "  <tbody>\n",
       "    <tr>\n",
       "      <th>0</th>\n",
       "      <td>0</td>\n",
       "      <td>Infinix SMART 7</td>\n",
       "      <td>Night Black</td>\n",
       "      <td>64</td>\n",
       "      <td>4</td>\n",
       "      <td>6000</td>\n",
       "      <td>13MP</td>\n",
       "      <td>5MP</td>\n",
       "      <td>1</td>\n",
       "      <td>16.76</td>\n",
       "      <td>Unisoc Spreadtrum SC9863A1</td>\n",
       "      <td>7299</td>\n",
       "    </tr>\n",
       "    <tr>\n",
       "      <th>1</th>\n",
       "      <td>1</td>\n",
       "      <td>Infinix SMART 7</td>\n",
       "      <td>Azure Blue</td>\n",
       "      <td>64</td>\n",
       "      <td>4</td>\n",
       "      <td>6000</td>\n",
       "      <td>13MP</td>\n",
       "      <td>5MP</td>\n",
       "      <td>1</td>\n",
       "      <td>16.76</td>\n",
       "      <td>Unisoc Spreadtrum SC9863A1</td>\n",
       "      <td>7299</td>\n",
       "    </tr>\n",
       "    <tr>\n",
       "      <th>2</th>\n",
       "      <td>2</td>\n",
       "      <td>MOTOROLA G32</td>\n",
       "      <td>Mineral Gray</td>\n",
       "      <td>128</td>\n",
       "      <td>8</td>\n",
       "      <td>5000</td>\n",
       "      <td>50MP</td>\n",
       "      <td>16MP</td>\n",
       "      <td>0</td>\n",
       "      <td>16.64</td>\n",
       "      <td>Qualcomm Snapdragon 680</td>\n",
       "      <td>11999</td>\n",
       "    </tr>\n",
       "    <tr>\n",
       "      <th>3</th>\n",
       "      <td>3</td>\n",
       "      <td>POCO C50</td>\n",
       "      <td>Royal Blue</td>\n",
       "      <td>32</td>\n",
       "      <td>2</td>\n",
       "      <td>5000</td>\n",
       "      <td>8MP</td>\n",
       "      <td>5MP</td>\n",
       "      <td>0</td>\n",
       "      <td>16.56</td>\n",
       "      <td>Mediatek Helio A22</td>\n",
       "      <td>5649</td>\n",
       "    </tr>\n",
       "    <tr>\n",
       "      <th>4</th>\n",
       "      <td>4</td>\n",
       "      <td>Infinix HOT 30i</td>\n",
       "      <td>Marigold</td>\n",
       "      <td>128</td>\n",
       "      <td>8</td>\n",
       "      <td>5000</td>\n",
       "      <td>50MP</td>\n",
       "      <td>5MP</td>\n",
       "      <td>1</td>\n",
       "      <td>16.76</td>\n",
       "      <td>G37</td>\n",
       "      <td>8999</td>\n",
       "    </tr>\n",
       "  </tbody>\n",
       "</table>\n",
       "</div>"
      ],
      "text/plain": [
       "   Unnamed: 0            Model        Colour  Memory  RAM  Battery_  \\\n",
       "0           0  Infinix SMART 7   Night Black      64    4      6000   \n",
       "1           1  Infinix SMART 7    Azure Blue      64    4      6000   \n",
       "2           2     MOTOROLA G32  Mineral Gray     128    8      5000   \n",
       "3           3         POCO C50    Royal Blue      32    2      5000   \n",
       "4           4  Infinix HOT 30i      Marigold     128    8      5000   \n",
       "\n",
       "  Rear Camera Front Camera  AI Lens  Mobile Height  \\\n",
       "0        13MP          5MP        1          16.76   \n",
       "1        13MP          5MP        1          16.76   \n",
       "2        50MP         16MP        0          16.64   \n",
       "3         8MP          5MP        0          16.56   \n",
       "4        50MP          5MP        1          16.76   \n",
       "\n",
       "                   Processor_  Price  \n",
       "0  Unisoc Spreadtrum SC9863A1   7299  \n",
       "1  Unisoc Spreadtrum SC9863A1   7299  \n",
       "2     Qualcomm Snapdragon 680  11999  \n",
       "3          Mediatek Helio A22   5649  \n",
       "4                         G37   8999  "
      ]
     },
     "execution_count": 8,
     "metadata": {},
     "output_type": "execute_result"
    }
   ],
   "source": [
    "df.head()"
   ]
  },
  {
   "cell_type": "code",
   "execution_count": 9,
   "metadata": {
    "colab": {
     "base_uri": "https://localhost:8080/"
    },
    "id": "xbns7gFv7Riq",
    "outputId": "50d0454c-c64e-4a0e-a5c5-b870457149c1"
   },
   "outputs": [
    {
     "data": {
      "text/plain": [
       "Index(['Unnamed: 0', 'Model', 'Colour', 'Memory', 'RAM', 'Battery_',\n",
       "       'Rear Camera', 'Front Camera', 'AI Lens', 'Mobile Height', 'Processor_',\n",
       "       'Price'],\n",
       "      dtype='object')"
      ]
     },
     "execution_count": 9,
     "metadata": {},
     "output_type": "execute_result"
    }
   ],
   "source": [
    "df.columns"
   ]
  },
  {
   "cell_type": "code",
   "execution_count": 10,
   "metadata": {
    "colab": {
     "base_uri": "https://localhost:8080/"
    },
    "id": "1PGPs-R5341i",
    "outputId": "0e7d5064-a4f0-4353-86da-99684c33178a"
   },
   "outputs": [
    {
     "name": "stdout",
     "output_type": "stream",
     "text": [
      "<class 'pandas.core.frame.DataFrame'>\n",
      "RangeIndex: 541 entries, 0 to 540\n",
      "Data columns (total 12 columns):\n",
      " #   Column         Non-Null Count  Dtype  \n",
      "---  ------         --------------  -----  \n",
      " 0   Unnamed: 0     541 non-null    int64  \n",
      " 1   Model          541 non-null    object \n",
      " 2   Colour         541 non-null    object \n",
      " 3   Memory         541 non-null    int64  \n",
      " 4   RAM            541 non-null    int64  \n",
      " 5   Battery_       541 non-null    int64  \n",
      " 6   Rear Camera    541 non-null    object \n",
      " 7   Front Camera   541 non-null    object \n",
      " 8   AI Lens        541 non-null    int64  \n",
      " 9   Mobile Height  541 non-null    float64\n",
      " 10  Processor_     541 non-null    object \n",
      " 11  Price          541 non-null    int64  \n",
      "dtypes: float64(1), int64(6), object(5)\n",
      "memory usage: 50.8+ KB\n"
     ]
    }
   ],
   "source": [
    "df.info()"
   ]
  },
  {
   "cell_type": "code",
   "execution_count": 11,
   "metadata": {
    "id": "5Uc_wdW33oa2"
   },
   "outputs": [],
   "source": [
    "df_final=df.drop(['Unnamed: 0'],axis=1)\n",
    "#Dropping unnecessary column from Analysis and puttingrest into df_final dataFrame"
   ]
  },
  {
   "cell_type": "code",
   "execution_count": 13,
   "metadata": {
    "colab": {
     "base_uri": "https://localhost:8080/"
    },
    "id": "0nZr9ydo6O7T",
    "outputId": "cbf001cf-41a4-48bb-b3df-9863f304c9ba"
   },
   "outputs": [
    {
     "data": {
      "text/plain": [
       "Index(['Model', 'Colour', 'Memory', 'RAM', 'Battery_', 'Rear Camera',\n",
       "       'Front Camera', 'AI Lens', 'Mobile Height', 'Processor_', 'Price'],\n",
       "      dtype='object')"
      ]
     },
     "execution_count": 13,
     "metadata": {},
     "output_type": "execute_result"
    }
   ],
   "source": [
    "df_final.columns"
   ]
  },
  {
   "cell_type": "code",
   "execution_count": 14,
   "metadata": {
    "colab": {
     "base_uri": "https://localhost:8080/",
     "height": 424
    },
    "id": "wOCAyCv234-L",
    "outputId": "a24268aa-2b34-4286-a75f-3efb31409725"
   },
   "outputs": [
    {
     "data": {
      "text/html": [
       "<div>\n",
       "<style scoped>\n",
       "    .dataframe tbody tr th:only-of-type {\n",
       "        vertical-align: middle;\n",
       "    }\n",
       "\n",
       "    .dataframe tbody tr th {\n",
       "        vertical-align: top;\n",
       "    }\n",
       "\n",
       "    .dataframe thead th {\n",
       "        text-align: right;\n",
       "    }\n",
       "</style>\n",
       "<table border=\"1\" class=\"dataframe\">\n",
       "  <thead>\n",
       "    <tr style=\"text-align: right;\">\n",
       "      <th></th>\n",
       "      <th>Memory</th>\n",
       "      <th>RAM</th>\n",
       "      <th>Battery_</th>\n",
       "      <th>AI Lens</th>\n",
       "      <th>Mobile Height</th>\n",
       "      <th>Price</th>\n",
       "    </tr>\n",
       "  </thead>\n",
       "  <tbody>\n",
       "    <tr>\n",
       "      <th>0</th>\n",
       "      <td>64</td>\n",
       "      <td>4</td>\n",
       "      <td>6000</td>\n",
       "      <td>1</td>\n",
       "      <td>16.76</td>\n",
       "      <td>7299</td>\n",
       "    </tr>\n",
       "    <tr>\n",
       "      <th>1</th>\n",
       "      <td>64</td>\n",
       "      <td>4</td>\n",
       "      <td>6000</td>\n",
       "      <td>1</td>\n",
       "      <td>16.76</td>\n",
       "      <td>7299</td>\n",
       "    </tr>\n",
       "    <tr>\n",
       "      <th>2</th>\n",
       "      <td>128</td>\n",
       "      <td>8</td>\n",
       "      <td>5000</td>\n",
       "      <td>0</td>\n",
       "      <td>16.64</td>\n",
       "      <td>11999</td>\n",
       "    </tr>\n",
       "    <tr>\n",
       "      <th>3</th>\n",
       "      <td>32</td>\n",
       "      <td>2</td>\n",
       "      <td>5000</td>\n",
       "      <td>0</td>\n",
       "      <td>16.56</td>\n",
       "      <td>5649</td>\n",
       "    </tr>\n",
       "    <tr>\n",
       "      <th>4</th>\n",
       "      <td>128</td>\n",
       "      <td>8</td>\n",
       "      <td>5000</td>\n",
       "      <td>1</td>\n",
       "      <td>16.76</td>\n",
       "      <td>8999</td>\n",
       "    </tr>\n",
       "    <tr>\n",
       "      <th>...</th>\n",
       "      <td>...</td>\n",
       "      <td>...</td>\n",
       "      <td>...</td>\n",
       "      <td>...</td>\n",
       "      <td>...</td>\n",
       "      <td>...</td>\n",
       "    </tr>\n",
       "    <tr>\n",
       "      <th>536</th>\n",
       "      <td>256</td>\n",
       "      <td>8</td>\n",
       "      <td>3900</td>\n",
       "      <td>0</td>\n",
       "      <td>15.49</td>\n",
       "      <td>79999</td>\n",
       "    </tr>\n",
       "    <tr>\n",
       "      <th>537</th>\n",
       "      <td>32</td>\n",
       "      <td>2</td>\n",
       "      <td>3100</td>\n",
       "      <td>0</td>\n",
       "      <td>12.70</td>\n",
       "      <td>5998</td>\n",
       "    </tr>\n",
       "    <tr>\n",
       "      <th>538</th>\n",
       "      <td>64</td>\n",
       "      <td>4</td>\n",
       "      <td>5000</td>\n",
       "      <td>0</td>\n",
       "      <td>16.76</td>\n",
       "      <td>9990</td>\n",
       "    </tr>\n",
       "    <tr>\n",
       "      <th>539</th>\n",
       "      <td>128</td>\n",
       "      <td>8</td>\n",
       "      <td>5000</td>\n",
       "      <td>0</td>\n",
       "      <td>16.26</td>\n",
       "      <td>38999</td>\n",
       "    </tr>\n",
       "    <tr>\n",
       "      <th>540</th>\n",
       "      <td>128</td>\n",
       "      <td>4</td>\n",
       "      <td>5000</td>\n",
       "      <td>0</td>\n",
       "      <td>16.66</td>\n",
       "      <td>15999</td>\n",
       "    </tr>\n",
       "  </tbody>\n",
       "</table>\n",
       "<p>541 rows × 6 columns</p>\n",
       "</div>"
      ],
      "text/plain": [
       "     Memory  RAM  Battery_  AI Lens  Mobile Height  Price\n",
       "0        64    4      6000        1          16.76   7299\n",
       "1        64    4      6000        1          16.76   7299\n",
       "2       128    8      5000        0          16.64  11999\n",
       "3        32    2      5000        0          16.56   5649\n",
       "4       128    8      5000        1          16.76   8999\n",
       "..      ...  ...       ...      ...            ...    ...\n",
       "536     256    8      3900        0          15.49  79999\n",
       "537      32    2      3100        0          12.70   5998\n",
       "538      64    4      5000        0          16.76   9990\n",
       "539     128    8      5000        0          16.26  38999\n",
       "540     128    4      5000        0          16.66  15999\n",
       "\n",
       "[541 rows x 6 columns]"
      ]
     },
     "execution_count": 14,
     "metadata": {},
     "output_type": "execute_result"
    }
   ],
   "source": [
    "numerical_col=df_final[['Memory','RAM','Battery_','AI Lens','Mobile Height','Price']]\n",
    "numerical_col"
   ]
  },
  {
   "cell_type": "code",
   "execution_count": 15,
   "metadata": {
    "colab": {
     "base_uri": "https://localhost:8080/",
     "height": 424
    },
    "id": "A161iPl-3442",
    "outputId": "87345111-c84b-49dc-ac2a-c14a14a25517"
   },
   "outputs": [
    {
     "data": {
      "text/html": [
       "<div>\n",
       "<style scoped>\n",
       "    .dataframe tbody tr th:only-of-type {\n",
       "        vertical-align: middle;\n",
       "    }\n",
       "\n",
       "    .dataframe tbody tr th {\n",
       "        vertical-align: top;\n",
       "    }\n",
       "\n",
       "    .dataframe thead th {\n",
       "        text-align: right;\n",
       "    }\n",
       "</style>\n",
       "<table border=\"1\" class=\"dataframe\">\n",
       "  <thead>\n",
       "    <tr style=\"text-align: right;\">\n",
       "      <th></th>\n",
       "      <th>Model</th>\n",
       "      <th>Colour</th>\n",
       "      <th>Rear Camera</th>\n",
       "      <th>Front Camera</th>\n",
       "      <th>Processor_</th>\n",
       "    </tr>\n",
       "  </thead>\n",
       "  <tbody>\n",
       "    <tr>\n",
       "      <th>0</th>\n",
       "      <td>Infinix SMART 7</td>\n",
       "      <td>Night Black</td>\n",
       "      <td>13MP</td>\n",
       "      <td>5MP</td>\n",
       "      <td>Unisoc Spreadtrum SC9863A1</td>\n",
       "    </tr>\n",
       "    <tr>\n",
       "      <th>1</th>\n",
       "      <td>Infinix SMART 7</td>\n",
       "      <td>Azure Blue</td>\n",
       "      <td>13MP</td>\n",
       "      <td>5MP</td>\n",
       "      <td>Unisoc Spreadtrum SC9863A1</td>\n",
       "    </tr>\n",
       "    <tr>\n",
       "      <th>2</th>\n",
       "      <td>MOTOROLA G32</td>\n",
       "      <td>Mineral Gray</td>\n",
       "      <td>50MP</td>\n",
       "      <td>16MP</td>\n",
       "      <td>Qualcomm Snapdragon 680</td>\n",
       "    </tr>\n",
       "    <tr>\n",
       "      <th>3</th>\n",
       "      <td>POCO C50</td>\n",
       "      <td>Royal Blue</td>\n",
       "      <td>8MP</td>\n",
       "      <td>5MP</td>\n",
       "      <td>Mediatek Helio A22</td>\n",
       "    </tr>\n",
       "    <tr>\n",
       "      <th>4</th>\n",
       "      <td>Infinix HOT 30i</td>\n",
       "      <td>Marigold</td>\n",
       "      <td>50MP</td>\n",
       "      <td>5MP</td>\n",
       "      <td>G37</td>\n",
       "    </tr>\n",
       "    <tr>\n",
       "      <th>...</th>\n",
       "      <td>...</td>\n",
       "      <td>...</td>\n",
       "      <td>...</td>\n",
       "      <td>...</td>\n",
       "      <td>...</td>\n",
       "    </tr>\n",
       "    <tr>\n",
       "      <th>536</th>\n",
       "      <td>SAMSUNG Galaxy S23 5G</td>\n",
       "      <td>Cream</td>\n",
       "      <td>50MP</td>\n",
       "      <td>12MP</td>\n",
       "      <td>Qualcomm Snapdragon 8 Gen 2</td>\n",
       "    </tr>\n",
       "    <tr>\n",
       "      <th>537</th>\n",
       "      <td>LAVA Z21</td>\n",
       "      <td>Cyan</td>\n",
       "      <td>5MP</td>\n",
       "      <td>2MP</td>\n",
       "      <td>Octa Core</td>\n",
       "    </tr>\n",
       "    <tr>\n",
       "      <th>538</th>\n",
       "      <td>Tecno Spark 8T</td>\n",
       "      <td>Turquoise Cyan</td>\n",
       "      <td>50MP</td>\n",
       "      <td>8MP</td>\n",
       "      <td>MediaTek Helio G35</td>\n",
       "    </tr>\n",
       "    <tr>\n",
       "      <th>539</th>\n",
       "      <td>SAMSUNG Galaxy A54 5G</td>\n",
       "      <td>Awesome Lime</td>\n",
       "      <td>50MP</td>\n",
       "      <td>32MP</td>\n",
       "      <td>Exynos 1380, Octa Core</td>\n",
       "    </tr>\n",
       "    <tr>\n",
       "      <th>540</th>\n",
       "      <td>OPPO A77</td>\n",
       "      <td>Sky Blue</td>\n",
       "      <td>50MP</td>\n",
       "      <td>8MP</td>\n",
       "      <td>Mediatek Helio G35</td>\n",
       "    </tr>\n",
       "  </tbody>\n",
       "</table>\n",
       "<p>541 rows × 5 columns</p>\n",
       "</div>"
      ],
      "text/plain": [
       "                     Model          Colour Rear Camera Front Camera  \\\n",
       "0          Infinix SMART 7     Night Black        13MP          5MP   \n",
       "1          Infinix SMART 7      Azure Blue        13MP          5MP   \n",
       "2             MOTOROLA G32    Mineral Gray        50MP         16MP   \n",
       "3                 POCO C50      Royal Blue         8MP          5MP   \n",
       "4          Infinix HOT 30i        Marigold        50MP          5MP   \n",
       "..                     ...             ...         ...          ...   \n",
       "536  SAMSUNG Galaxy S23 5G           Cream        50MP         12MP   \n",
       "537               LAVA Z21            Cyan         5MP          2MP   \n",
       "538         Tecno Spark 8T  Turquoise Cyan        50MP          8MP   \n",
       "539  SAMSUNG Galaxy A54 5G    Awesome Lime        50MP         32MP   \n",
       "540               OPPO A77        Sky Blue        50MP          8MP   \n",
       "\n",
       "                      Processor_  \n",
       "0     Unisoc Spreadtrum SC9863A1  \n",
       "1     Unisoc Spreadtrum SC9863A1  \n",
       "2        Qualcomm Snapdragon 680  \n",
       "3             Mediatek Helio A22  \n",
       "4                            G37  \n",
       "..                           ...  \n",
       "536  Qualcomm Snapdragon 8 Gen 2  \n",
       "537                    Octa Core  \n",
       "538           MediaTek Helio G35  \n",
       "539      Exynos 1380, Octa Core   \n",
       "540           Mediatek Helio G35  \n",
       "\n",
       "[541 rows x 5 columns]"
      ]
     },
     "execution_count": 15,
     "metadata": {},
     "output_type": "execute_result"
    }
   ],
   "source": [
    "categorical_col=df[['Model','Colour','Rear Camera','Front Camera','Processor_']]\n",
    "categorical_col"
   ]
  },
  {
   "cell_type": "code",
   "execution_count": 16,
   "metadata": {
    "colab": {
     "base_uri": "https://localhost:8080/"
    },
    "id": "fWgYdo7V348W",
    "outputId": "9f959052-bc17-478d-fb34-1b1915047e5b"
   },
   "outputs": [
    {
     "name": "stdout",
     "output_type": "stream",
     "text": [
      "Value counts for Model:\n",
      "Model\n",
      "Lesser                   144\n",
      "SAMSUNG Galaxy A14 5G      9\n",
      "REDMI Note 12 Pro 5G       9\n",
      "vivo Y16                   9\n",
      "realme C55                 9\n",
      "                        ... \n",
      "realme Narzo 50            3\n",
      "MOTOROLA g52               3\n",
      "OPPO A17k                  3\n",
      "realme 9 Pro+ 5G           3\n",
      "vivo V25 Pro 5G            3\n",
      "Name: count, Length: 89, dtype: int64\n",
      "\n",
      "\n",
      "Value counts for Colour:\n",
      "Colour\n",
      "Lesser              295\n",
      "Yellow               12\n",
      "Power Black           8\n",
      "Royal Blue            8\n",
      "Black                 8\n",
      "Midnight Black        7\n",
      "Cool Blue             7\n",
      "Aqua Blue             6\n",
      "Glacier Blue          6\n",
      "Force Black           6\n",
      "Blue                  5\n",
      "M3)                   5\n",
      "Racing Black          5\n",
      "OMG Black             5\n",
      "Nebula Blue           5\n",
      "Carbon Black          5\n",
      "Light Green           5\n",
      "Hyperspace            4\n",
      "Light Silver          4\n",
      "Horizon Blue          4\n",
      "Dark Blue             4\n",
      "Marine Blue           4\n",
      "Light Blue            4\n",
      "Night Sea             4\n",
      "Pacific Blue          4\n",
      "Aurora Green          4\n",
      "Steller Black         4\n",
      "Dark Matter           4\n",
      "Turquoise Cyan        4\n",
      "Drizzling Gold        4\n",
      "Lake Blue             4\n",
      "Glowing Black         3\n",
      "Awesome Graphite      3\n",
      "Mint Green            3\n",
      "Arctic White          3\n",
      "Onyx Black            3\n",
      "Stripe Black          3\n",
      "Dark Red              3\n",
      "Orange Shimmer        3\n",
      "Phantom Black         3\n",
      "Electric Blue         3\n",
      "Sunrise Gold          3\n",
      "Starry Sky            3\n",
      "Midnight Galaxy       3\n",
      "Mirror Black          3\n",
      "Cosmic Black          3\n",
      "Glimmer Black         3\n",
      "Forest Green          3\n",
      "Eco Black             3\n",
      "Sandy Gold            3\n",
      "Sunshower             3\n",
      "Rainy Night           3\n",
      "Rainforest            3\n",
      "B.A.E. Purple         3\n",
      "Nebula Green          3\n",
      "Coral Green           3\n",
      "Ice Blue              3\n",
      "Dark Green            3\n",
      "Stardust Purple       3\n",
      "Awesome Violet        3\n",
      "Name: count, dtype: int64\n",
      "\n",
      "\n",
      "Value counts for Rear Camera:\n",
      "Rear Camera\n",
      "50MP      260\n",
      "13MP       63\n",
      "64MP       62\n",
      "8MP        52\n",
      "48MP       31\n",
      "108MP      31\n",
      "0MP        10\n",
      "12MP       10\n",
      "200MP       8\n",
      "2MP         6\n",
      "Lesser      5\n",
      "5MP         3\n",
      "Name: count, dtype: int64\n",
      "\n",
      "\n",
      "Value counts for Front Camera:\n",
      "Front Camera\n",
      "16MP      164\n",
      "5MP       135\n",
      "8MP       129\n",
      "13MP       49\n",
      "32MP       22\n",
      "0MP        16\n",
      "50MP        7\n",
      "Lesser      6\n",
      "12MP        6\n",
      "60MP        4\n",
      "2MP         3\n",
      "Name: count, dtype: int64\n",
      "\n",
      "\n",
      "Value counts for Processor_:\n",
      "Processor_\n",
      "Lesser                          72\n",
      "Qualcomm Snapdragon 680         33\n",
      "Unisoc T612                     21\n",
      "Mediatek Helio A22              19\n",
      "Mediatek Dimensity 1080         18\n",
      "                                ..\n",
      "MediaTek Helio G96               3\n",
      "Mediatek Helio G99 Octa Core     3\n",
      "Dimensity 8020                   3\n",
      "Helio G85                        3\n",
      "Mediatek Dimensity 1300          3\n",
      "Name: count, Length: 71, dtype: int64\n",
      "\n",
      "\n"
     ]
    }
   ],
   "source": [
    "#Feature Values count,extraction and special attributes in Feature TreatMent\n",
    "counter=3\n",
    "def feature(df,columns,counter):\n",
    "  for column in columns:\n",
    "    feature_counts=df[column].value_counts()\n",
    "    other_categories=feature_counts[feature_counts<counter].index\n",
    "    df[column]=df[column].where(~df[column].isin(other_categories),'Lesser')\n",
    "\n",
    "feature(df_final,categorical_col,counter)\n",
    "\n",
    "# Optional: Print value counts for each column\n",
    "for column in categorical_col:\n",
    "    print(f\"Value counts for {column}:\")\n",
    "    print(df_final[column].value_counts())\n",
    "    print(\"\\n\")"
   ]
  },
  {
   "cell_type": "code",
   "execution_count": 17,
   "metadata": {
    "colab": {
     "base_uri": "https://localhost:8080/",
     "height": 1000
    },
    "id": "dq2hdGdzcPbE",
    "outputId": "60241939-a8e4-4177-b371-e4af31efc572"
   },
   "outputs": [
    {
     "data": {
      "image/png": "[encoded data removed]",
      "text/plain": [
       "<Figure size 720x432 with 1 Axes>"
      ]
     },
     "metadata": {
      "needs_background": "light"
     },
     "output_type": "display_data"
    },
    {
     "data": {
      "image/png": "[encoded data removed]",
      "text/plain": [
       "<Figure size 720x432 with 1 Axes>"
      ]
     },
     "metadata": {
      "needs_background": "light"
     },
     "output_type": "display_data"
    },
    {
     "data": {
      "image/png": "[encoded data removed]",
      "text/plain": [
       "<Figure size 720x432 with 1 Axes>"
      ]
     },
     "metadata": {
      "needs_background": "light"
     },
     "output_type": "display_data"
    },
    {
     "data": {
      "image/png": "[encoded data removed]",
      "text/plain": [
       "<Figure size 720x432 with 1 Axes>"
      ]
     },
     "metadata": {
      "needs_background": "light"
     },
     "output_type": "display_data"
    },
    {
     "data": {
      "image/png": "[encoded data removed]",
      "text/plain": [
       "<Figure size 720x432 with 1 Axes>"
      ]
     },
     "metadata": {
      "needs_background": "light"
     },
     "output_type": "display_data"
    },
    {
     "data": {
      "image/png": "[encoded data removed]",
      "text/plain": [
       "<Figure size 720x432 with 1 Axes>"
      ]
     },
     "metadata": {
      "needs_background": "light"
     },
     "output_type": "display_data"
    },
    {
     "data": {
      "image/png": "[encoded data removed]",
      "text/plain": [
       "<Figure size 720x432 with 1 Axes>"
      ]
     },
     "metadata": {
      "needs_background": "light"
     },
     "output_type": "display_data"
    },
    {
     "data": {
      "image/png": "[encoded data removed]",
      "text/plain": [
       "<Figure size 720x432 with 1 Axes>"
      ]
     },
     "metadata": {
      "needs_background": "light"
     },
     "output_type": "display_data"
    },
    {
     "data": {
      "image/png": "[encoded data removed]",
      "text/plain": [
       "<Figure size 720x432 with 1 Axes>"
      ]
     },
     "metadata": {
      "needs_background": "light"
     },
     "output_type": "display_data"
    },
    {
     "data": {
      "image/png": "[encoded data removed]",
      "text/plain": [
       "<Figure size 720x432 with 1 Axes>"
      ]
     },
     "metadata": {
      "needs_background": "light"
     },
     "output_type": "display_data"
    },
    {
     "data": {
      "image/png": "[encoded data removed]",
      "text/plain": [
       "<Figure size 720x432 with 1 Axes>"
      ]
     },
     "metadata": {
      "needs_background": "light"
     },
     "output_type": "display_data"
    }
   ],
   "source": [
    "#Bar plot of the features other than Lesser  and its frequency of occurance is more than the mean value and plot color is rainbow\n",
    "\n",
    "import matplotlib.pyplot as plt\n",
    "\n",
    "for column in df_final:\n",
    "  feature_counts = df_final[column].value_counts()\n",
    "  features_above_mean = feature_counts[feature_counts > feature_counts.mean()]\n",
    "  if not features_above_mean.empty:\n",
    "    features_above_mean = features_above_mean[features_above_mean.index != 'Lesser']\n",
    "    if not features_above_mean.empty:\n",
    "      plt.figure(figsize=(10, 6))\n",
    "      features_above_mean.plot(kind='bar', color=plt.cm.rainbow(np.linspace(0, 1, len(features_above_mean))))\n",
    "      plt.title(f\"Frequency of Occurrence for {column} (Above Mean)\")\n",
    "      plt.xlabel(column)\n",
    "      plt.ylabel(\"Frequency\")\n",
    "      plt.show()\n"
   ]
  },
  {
   "cell_type": "code",
   "execution_count": 20,
   "metadata": {
    "colab": {
     "base_uri": "https://localhost:8080/",
     "height": 490
    },
    "id": "XfWs4P5brDzw",
    "outputId": "92512233-86b7-47d8-9a0f-a9906437230c"
   },
   "outputs": [
    {
     "data": {
      "text/plain": [
       "Model\n",
       "Lesser                   0.266174\n",
       "SAMSUNG Galaxy A14 5G    0.016636\n",
       "REDMI Note 12 Pro 5G     0.016636\n",
       "vivo Y16                 0.016636\n",
       "realme C55               0.016636\n",
       "                           ...   \n",
       "realme Narzo 50          0.005545\n",
       "MOTOROLA g52             0.005545\n",
       "OPPO A17k                0.005545\n",
       "realme 9 Pro+ 5G         0.005545\n",
       "vivo V25 Pro 5G          0.005545\n",
       "Name: proportion, Length: 89, dtype: float64"
      ]
     },
     "execution_count": 20,
     "metadata": {},
     "output_type": "execute_result"
    }
   ],
   "source": [
    "df_final['Model'].value_counts(['Lesser'])\n",
    "#df['fuel_type'].isnull().value_counts()/len(df['fuel_type'])*100"
   ]
  },
  {
   "cell_type": "code",
   "execution_count": 21,
   "metadata": {
    "colab": {
     "base_uri": "https://localhost:8080/"
    },
    "id": "D0VR7LUXv139",
    "outputId": "9390d796-1c98-49e7-dff2-16c317810f22"
   },
   "outputs": [
    {
     "name": "stdout",
     "output_type": "stream",
     "text": [
      "Unique values in 'Model':\n",
      "['Infinix SMART 7' 'MOTOROLA G32' 'POCO C50' 'Infinix HOT 30i' 'REDMI 10'\n",
      " 'SAMSUNG Galaxy F13' 'SAMSUNG Galaxy F04' 'POCO C51' 'MOTOROLA e13'\n",
      " 'vivo T2x 5G' 'Infinix Smart 7 HD' 'REDMI A1+' 'POCO C55' 'MOTOROLA g13'\n",
      " 'POCO M4 5G' 'MOTOROLA e32' 'vivo T2 5G' 'MOTOROLA G62 5G' 'POCO M5'\n",
      " 'realme C33 2023' 'SAMSUNG Galaxy F14 5G' 'MOTOROLA g73 5G' 'realme C30'\n",
      " 'POCO X5 5G' 'POCO M4 Pro' 'REDMI 11 Prime' 'realme C55'\n",
      " 'realme 10 Pro 5G' 'Micromax IN 2C' 'POCO M4 Pro 5G'\n",
      " 'realme Narzo 30 Pro 5G' 'micromax 2' 'Infinix Note 12 Pro 5G'\n",
      " 'SAMSUNG Galaxy F23 5G' 'micromax' 'MOTOROLA Edge 40' 'micromax 1'\n",
      " 'realme Narzo 30' 'Infinix NOTE 12i' 'realme 10' 'realme 8i' 'Micromax 3'\n",
      " 'Google Pixel 6a' 'Infinix HOT 20 5G' 'realme GT 2' 'REDMI Note 12'\n",
      " 'REDMI Note 12 5G' 'micromax 3' 'SAMSUNG Galaxy M04' 'REDMI K50i 5G'\n",
      " 'MOTOROLA e40' 'REDMI 9 Activ' 'MOTOROLA g42' 'realme C25s'\n",
      " 'POCO X5 Pro 5G' 'POCO M3 Pro 5G' 'Infinix Smart 6 HD'\n",
      " 'Infinix Hot 20 5G' 'realme C31' 'micromax1' 'OPPO A17' 'realme 9 5G SE'\n",
      " 'realme 9i 5G' 'realme C21Y' 'realme Narzo 50i Prime'\n",
      " 'REDMI Note 12 Pro 5G' 'Infinix Zero 5G 2023' 'POCO X4 Pro 5G'\n",
      " 'MOTOROLA g82 5G' 'REDMI Note 12 Pro+ 5G' 'vivo T1 44W' 'MOTOROLA g31'\n",
      " 'realme narzo 50i Prime' 'SAMSUNG Galaxy S22 Plus 5G' 'vivo V27 5G'\n",
      " 'realme Narzo 50' 'Infinix HOT 20 Play' 'MOTOROLA g52' 'OPPO A17k'\n",
      " 'POCO F5 5G' 'redmi max' 'redmi mono' 'redmi min' 'realme 9 Pro+ 5G'\n",
      " 'Infinix Hot 12' 'MOTOROLA g72' 'vivo Y16' 'realme Narzo 50i'\n",
      " 'SAMSUNG Galaxy Z Flip3 5G' 'realme C33' 'Infinix Zero 20' 'realme 8'\n",
      " 'vivo Y35' 'MOTOROLA Edge 30' 'MOTOROLA Edge 30 Fusion' 'Infinix Note 12'\n",
      " 'Google Pixel 7a' 'Tecno Spark 9' 'OPPO Reno8T 5G'\n",
      " 'SAMSUNG Galaxy A14 5G' 'POCO C31' 'POCO X2' 'nothing phone 1'\n",
      " 'I Kall Z19Pro Flash blue' 'Tecno Spark 9T' 'Infinix Zero 5G 2023 TURBO'\n",
      " 'I Kall Z19Pro' 'OPPO A78 5G' 'Tecno Spark Go 2023' 'REDMI 10 Prime 2022'\n",
      " 'SAMSUNG Galaxy A23 5G' 'realme C35' 'MOTOROLA g22' 'itel A60'\n",
      " 'vivo V23 5G' 'OnePlus Nord 2T 5G' 'MOTOROLA G42' 'Infinix Smart 6'\n",
      " 'realme 10 Pro+ 5G' 'realme 9i' 'SAMSUNG Galaxy A34 5G'\n",
      " 'realme Narzo N55' 'OPPO A17K' 'Tecno Pop 5 Pro' 'OPPO A77s'\n",
      " 'realme C30s' 'MOTOROLA Edge 30 Ultra' 'IQOO Neo 7 5G' 'vivo Y56 5G'\n",
      " 'Infinix Note 12 5G' 'Infinix HOT 12 Play' 'vivo Y75'\n",
      " 'realme Narzo 50A Prime' 'realme NARZO 50A PRIME' 'Google Pixel 7'\n",
      " 'POCO F1' 'vivo Y12G' 'SAMSUNG Galaxy A23' 'realme Narzo 50A'\n",
      " 'vivo Y100 5G' 'Redmi 9A Sport' 'REDMI Note 11' 'vivo V25 5G'\n",
      " 'SAMSUNG Galaxy S21 FE 5G' 'REDMI Note 11T 5G' 'realme X3 SuperZoom'\n",
      " 'OPPO F21 Pro' 'REDMI Note 11S' 'OnePlus 8' 'vivo Y1s' 'OnePlus Nord'\n",
      " 'Nokia C01 Plus' 'REDMI 10A SPORT' 'SAMSUNG Galaxy A54 5G' 'vivo Y33s'\n",
      " 'REDMI Note 10S' 'APPLE iPhone 11' 'vivo T1 Pro 5G' 'Infinix Smart 5A'\n",
      " 'MOTOROLA e22s' 'Infinix Hot 12 Pro' 'REDMI 9i' 'REDMI Note 9'\n",
      " 'vivo Y565G' 'SAMSUNG M53 5G' 'REDMI Note 10 Lite' 'APPLE iPhone 14 Plus'\n",
      " 'vivo V25 Pro 5G' 'Infinix Hot 11' 'Infinix Note 12 Pro' 'Tecno Pova 3'\n",
      " 'REDMI 12c' 'LAVA Z2' 'Infinix Note 11s Free Fire Edition'\n",
      " 'realme C11 2021' 'vivo Y21T' 'realme 9 5G' 'SAMSUNG Galaxy A04'\n",
      " 'OPPO F21s Pro' 'APPLE iPhone 12' 'SAMSUNG Galaxy A13' 'Nokia G11 Plus'\n",
      " 'SAMSUNG Galaxy A04e' 'SAMSUNG Galaxy S23 5G' 'LAVA Z21' 'Tecno Spark 8T'\n",
      " 'OPPO A77']\n",
      "\n",
      "Unique values in 'Colour':\n",
      "['Night Black' 'Azure Blue' 'Mineral Gray' 'Royal Blue' 'Marigold'\n",
      " 'Glacier Blue' 'Mirror Black' 'Diamond White' 'Shadow Black'\n",
      " 'Emerald Green' 'Waterfall Blue' 'Opal Green' 'Power Black'\n",
      " 'Country Green' 'Cosmic Black' 'Aurora Gold' 'Marine Blue'\n",
      " 'Glimmer Black' 'Green Apple' 'Black' 'Light Blue' 'Light Green'\n",
      " 'Cool Blue' 'Forest Green' 'Nightsky Green' 'Matte Charcoal' 'Eco Black'\n",
      " 'Caribbean Green' 'Jade Purple' 'Satin Silver' 'Sunrise Orange'\n",
      " 'Sunrise Copper' 'Arctic Blue' 'Lavender Blue' 'Velocity Wave'\n",
      " 'Nitro Blaze' 'Frosted Blue' 'Yellow' 'Midnight Gray' 'Creamy White'\n",
      " 'Sandy Gold' 'Aqua Blue' 'GOAT Green' 'Midnight Blue' 'Night Sea'\n",
      " 'Bamboo Green' 'Lake Blue' 'Denim Black' 'Wildcat Blue' 'Icy Blue'\n",
      " 'Flashy Black' 'Sunshower' 'Rainy Night' 'Rainforest' 'B.A.E. Purple'\n",
      " 'Peppy Purple' 'Lucent White' 'Dark Matter' 'Nebula Blue' 'Hyperspace'\n",
      " 'Blade Silver' 'Force Black' 'Snowfall' 'Supernova Green' 'Pacific Blue'\n",
      " 'OMG Black' 'Eclipse Black' 'Midnight Black' 'Ink Black' 'Silk Blue'\n",
      " 'Jade White' 'Racing Silver' 'Alpine White' 'Jaguar Black' 'Rush Black'\n",
      " 'Space Black' 'Racing Blue' 'Chalk' 'Charcoal' 'Blaster Green'\n",
      " 'Metaverse Blue' 'Steel Black' 'Paper White' 'Clash White' 'Sunrise Gold'\n",
      " 'Space Blue' 'Frosted Green' 'Matte Black' 'Mystique Blue' 'Racing Black'\n",
      " 'Dark Blue' 'Nebula Green' 'Stealth Black' 'Carbon Gray' 'Coral Green'\n",
      " 'Ice Blue' 'Copper Blush' 'Atlantic Green' 'Watery Grey' 'Horizon Blue'\n",
      " 'Space Purple' 'Aqua Sky' 'Origin Blue' 'Astral Black' 'Lunar Black'\n",
      " 'Dark Green' 'Light Silver' 'Azure Glow' 'Starry Glow' 'Soulful Blue'\n",
      " 'Rocking Black' 'Metallica Gold' 'Cross Black' 'Stardust Purple'\n",
      " 'Submariner Black' 'Meterorite Grey' 'Iceberg Blue' 'Midnight Galaxy'\n",
      " 'Ice Dawn' 'Starry Sky' 'White Lily' 'Baby Blue' 'Obsidian Black'\n",
      " 'Mint Green' 'Aurora Green' 'Phantom Black' 'Pearly White' 'Noble Black'\n",
      " 'Speed Blue' 'Fantasy Purple' 'Luna Blue' 'Charcoal Grey' 'Speed Black'\n",
      " 'Blue' 'Magic Blue' 'Watery Blue' 'Coral Orange' 'Snowstorm White' 'M3)'\n",
      " 'Playful Green' 'Onyx Black' 'Silver' 'Arctic White' 'Sunlight Orange'\n",
      " 'Exploratory Blue' 'Polar Black' '7Â° Purple' 'Turquoise Cyan'\n",
      " 'Meteorite Grey' 'Brown' 'Drizzling Gold' 'Lunar Blue' 'Carbon Black'\n",
      " 'Sunrise Blue' 'Green Fantasy' 'DEEP GRAY' 'Punk Black' 'Cyber Black'\n",
      " 'Dawn Gold' 'Agate Black' 'Polar Blue' 'Cosmic grey' 'Quick Silver' 'Sea'\n",
      " 'Infinity Black' 'Sky Mirror' 'Meteor Grey' 'Dark Red' 'Electric Blue'\n",
      " 'Shadow Gray' 'Atlantis Blue' 'Snow' 'White' 'chalk' 'Flash Blue'\n",
      " 'Iris Purple' 'Tahiti Gold' 'Steller Black' 'Glowing Black'\n",
      " 'Atlantic Blue' 'Laser Black' 'Endless Black' 'Astral White' 'VertMenthe'\n",
      " 'Stardust Black' 'Gray Shadow' 'Orange' 'SapphireBlack' 'DawnBlue'\n",
      " 'Phantom Blue' 'Metallic Rose' 'Starry Purple' 'Heart Of Ocean'\n",
      " 'Light Sea Green' 'Prism Blue' 'Prism Black' 'Awesome Graphite'\n",
      " 'Prime Blue' 'Awesome Silver' 'Navy Blue' 'Gold' 'Jade Fog'\n",
      " 'Deepsea Luster' 'Sunset Orange' 'Stripe Blue' 'Interstellar Black'\n",
      " 'Frost Blue' 'Black Engine' 'Dancing waves' 'Stripe Black' 'Laser Blue'\n",
      " 'FLASH BLUE' 'Obsidian' 'Steel Blue' 'Solar Gold' 'Lemongrass'\n",
      " 'Orange Shimmer' 'Oxygen Blue' 'Moonlight Shadow' 'Stellar Black'\n",
      " 'Metallic White' 'Elegant Black' 'Awesome Violet' 'Olive Green'\n",
      " 'Stardust White' 'Surfing Blue' 'Interstellar Glow' 'Aurora Blue'\n",
      " 'Glacial Green' 'Blue Marble' 'Starry Black' 'Grey' 'SLATE GREY'\n",
      " 'CHARCOAL BLACK' 'Prime Black' 'Flash Black' 'Frost White'\n",
      " 'Sunshine Gold' 'Turbo Black' 'Turbo Cyan' 'Uyuni Blue' 'Halo White'\n",
      " 'Peach' 'Scarlet Red' 'Starlight White' 'Deep Ocean Blue' 'Glacier White'\n",
      " 'Midnight' 'Pure Black' 'Lightsaber Green' 'Sailing Blue' 'Silver Wave'\n",
      " 'Tuscany Blue' 'Volcanic Grey' 'Flame Red' 'Oxygen Green'\n",
      " 'Aquamarine Blue' 'Matte black' 'Mithril Grey' 'Cool Grey' 'Pearl White'\n",
      " 'Nebula Purple' 'Purple' 'UYUNI BLUE' 'Meteor Black' 'Supersonic Black'\n",
      " 'Starlight' 'Metal Black' 'Twilight Gold' 'Copper' 'Starlight Black'\n",
      " 'Cream' 'Cyan' 'Awesome Lime' 'Sky Blue']\n",
      "\n",
      "Unique values in 'Rear Camera':\n",
      "['13MP' '50MP' '8MP' '40MP' '32MP' '48MP' '64MP' '108MP' '0MP' '2MP'\n",
      " '12MP' '200MP' '5MP' '16MP']\n",
      "\n",
      "Unique values in 'Front Camera':\n",
      "['5MP' '16MP' '8MP' '13MP' '0MP' '32MP' '10MP' '50MP' '60MP' '20MP' '44MP'\n",
      " '2MP' '12MP']\n",
      "\n",
      "Unique values in 'Processor_':\n",
      "['Unisoc Spreadtrum SC9863A1' 'Qualcomm Snapdragon 680'\n",
      " 'Mediatek Helio A22' 'G37' 'Exynos 850' 'Mediatek Helio P35' 'Helio G36'\n",
      " 'Unisoc T606' 'Dimensity 6020' 'Spreadtrum SC9863A1' 'Mediatek Helio G85'\n",
      " 'Helio G85' 'Mediatek Dimensity 700' 'Mediatek Helio G37'\n",
      " 'Snapdragon 695' 'Qualcomm Snapdragon 695 5G' 'Mediatek Helio G99'\n",
      " 'Unisoc T612' 'Exynos 1330, Octa Core ' 'Mediatek Dimensity 930'\n",
      " 'Qualcomm Snapdragon 695' 'Mediatek Helio G96' 'Helio G99' 'Helio G88'\n",
      " 'SC6531E' 'Mediatek Dimensity 810' 'MediaTek Dimensity 800U'\n",
      " 'Mediatek Dimensity 810 5G' 'Qualcomm Snapdragon 750G' 'Dimensity 8020'\n",
      " 'MediaTek Helio G95' 'Mediatek Helio G99 Octa Core' 'MediaTek Helio G96'\n",
      " 'MediaTek' 'Google Tensor' 'Dimensity 810' 'Qualcomm Snapdragon 888'\n",
      " 'Snapdragon 685' 'Qualcomm Snapdragon 4 Gen 1' '0 0 0 208MHz'\n",
      " 'MediaTek Helio P35' 'Dimensity 8100' 'UNISOC T700' 'Mediatek Helio G35'\n",
      " 'MediaTek Helio G85' 'Qualcomm Snapdragon 778G' 'MediaTek Dimensity 700'\n",
      " 'Unisoc T610' 'Unisoc T612 processor' 'Mediatek Dimensity 1080'\n",
      " 'Mediatek Dimensity 920' 'Unisoc Tiger T612 (12 nm)'\n",
      " 'Qualcomm Snapdragon 8 Gen 1' 'Mediatek Dimensity 7200 5G' 'MediaTek G37'\n",
      " 'Qualcomm Snapdragon 7+ Gen 2 (4nm)' 'Octa Core' 'MT6260A' 'MTK6261D'\n",
      " 'Spreadtrum' 'Mediatek MT6261D' 'Meditek Helio G37' 'SC9863A'\n",
      " 'Qualcomm Snapdragon 888 Octa-Core' 'Mediatek G99'\n",
      " 'Qualcomm Snapdragon 778G Plus' 'Qualcomm Snapdragon 888 +'\n",
      " 'MediaTek Helio G88' 'Tensor G2' 'MediaTek Helio G37'\n",
      " 'SEC S5E8535 (Exynos 1330)' 'MediaTek Helio G35'\n",
      " 'Qualcomm Snapdragon 730G' 'Qualcomm Snapdragon 778G+' 'Android'\n",
      " '2GHz, Quad Core ' 'Qualcomm Snapdragon 695 (SM6375)' 'Unisoc Tiger T616'\n",
      " 'Unisoc' 'Oxygen OS' 'Mediatek Dimensity 1080 5G'\n",
      " 'Qualcomm Snapdragon 680 (SM6225)' 'Dimensity 1080, Octa Core '\n",
      " 'Mediatek Helio G88' 'Helio A22' 'Unisoc SC9863A/ Unisoc SC9863A1'\n",
      " 'Qualcomm Snapdragon 8+ Gen 1' 'Snapdragon 8 Gen 1' 'Mediatek G96'\n",
      " 'Google Tensor G2' 'Qualcomm Snapdragon 845' 'Qualcomm Snapdragon 439'\n",
      " 'Octa-core(EXYNOS)' 'Mediatek Dimensity 900' 'Helio G25' 'Snapdragon 680'\n",
      " 'snapdragon 888' 'Qualcomm Snapdragon 855' 'Qualcomm Snapdragon 865'\n",
      " 'QualcommÂ® Snapdragonâ\\x84¢ 765G' 'Unisoc SC9863A'\n",
      " 'Exynos 1380, Octa Core ' 'MediaTek Helio G80' 'Mediatek Helio G95'\n",
      " 'Qualcomm Snapdragon 855+' 'ios'\n",
      " 'Qualcomm Snapdragon 778G 5G Mobile Platform' 'MediaTek Helio A20'\n",
      " 'MediaTek G35' 'MediaTek Helio A22' 'Unisoc T616' 'MediaTek Helio G25'\n",
      " 'MTK Dimensity 700' 'Qualcomm Snapdragon 720G' 'IOS'\n",
      " 'Mediatek Dimensity 1300' 'MediaTek Helio G70' 'Octa-core' '6 Core'\n",
      " 'Dimensity 8200' 'Qualcomm SM6225 Snapdragon 680 4G (6 nm)'\n",
      " 'Exynos Octa Core' 'Qualcomm Snapdragon 8 Gen 2']\n",
      "\n"
     ]
    }
   ],
   "source": [
    "for column in categorical_col:\n",
    "    unique_values = df[column].unique()\n",
    "    print(f\"Unique values in '{column}':\")\n",
    "    print(unique_values)\n",
    "    print()\n",
    "    #Print the unique values in the categorical columns"
   ]
  },
  {
   "cell_type": "code",
   "execution_count": 22,
   "metadata": {
    "colab": {
     "base_uri": "https://localhost:8080/",
     "height": 534
    },
    "id": "E023Do0w7EX8",
    "outputId": "e7d3d592-46bf-4a72-82a9-c3277057ebde"
   },
   "outputs": [
    {
     "data": {
      "text/plain": [
       "<AxesSubplot:>"
      ]
     },
     "execution_count": 22,
     "metadata": {},
     "output_type": "execute_result"
    },
    {
     "data": {
      "image/png": "[encoded data removed]",
      "text/plain": [
       "<Figure size 432x288 with 2 Axes>"
      ]
     },
     "metadata": {
      "needs_background": "light"
     },
     "output_type": "display_data"
    }
   ],
   "source": [
    "sns.heatmap(numerical_col.corr(),annot=True)"
   ]
  },
  {
   "cell_type": "code",
   "execution_count": 23,
   "metadata": {
    "id": "65BHAerv8itM"
   },
   "outputs": [],
   "source": [
    "#Label Encoding the Categorical Features\n",
    "le=LabelEncoder()\n",
    "for column in categorical_col:\n",
    "  df_final[column]=le.fit_transform(df_final[column])\n"
   ]
  },
  {
   "cell_type": "code",
   "execution_count": 24,
   "metadata": {
    "colab": {
     "base_uri": "https://localhost:8080/",
     "height": 534
    },
    "id": "uxgJT0hf9Xei",
    "outputId": "46ddd0ae-171d-45bb-c3c8-82bceb546ef2"
   },
   "outputs": [
    {
     "data": {
      "text/plain": [
       "<AxesSubplot:>"
      ]
     },
     "execution_count": 24,
     "metadata": {},
     "output_type": "execute_result"
    },
    {
     "data": {
      "image/png": "[encoded data removed]",
      "text/plain": [
       "<Figure size 432x288 with 2 Axes>"
      ]
     },
     "metadata": {
      "needs_background": "light"
     },
     "output_type": "display_data"
    }
   ],
   "source": [
    "sns.heatmap(df_final.corr(),annot=True)\n",
    "#Correlation among the features present in the data Frame df_final"
   ]
  },
  {
   "cell_type": "code",
   "execution_count": 25,
   "metadata": {
    "colab": {
     "base_uri": "https://localhost:8080/",
     "height": 394
    },
    "id": "Pj0rBlLcvwsP",
    "outputId": "3301cd96-668a-4ae6-fda3-3625802e4cfd"
   },
   "outputs": [
    {
     "data": {
      "text/html": [
       "<div>\n",
       "<style scoped>\n",
       "    .dataframe tbody tr th:only-of-type {\n",
       "        vertical-align: middle;\n",
       "    }\n",
       "\n",
       "    .dataframe tbody tr th {\n",
       "        vertical-align: top;\n",
       "    }\n",
       "\n",
       "    .dataframe thead th {\n",
       "        text-align: right;\n",
       "    }\n",
       "</style>\n",
       "<table border=\"1\" class=\"dataframe\">\n",
       "  <thead>\n",
       "    <tr style=\"text-align: right;\">\n",
       "      <th></th>\n",
       "      <th>Model</th>\n",
       "      <th>Colour</th>\n",
       "      <th>Memory</th>\n",
       "      <th>RAM</th>\n",
       "      <th>Battery_</th>\n",
       "      <th>Rear Camera</th>\n",
       "      <th>Front Camera</th>\n",
       "      <th>AI Lens</th>\n",
       "      <th>Mobile Height</th>\n",
       "      <th>Processor_</th>\n",
       "      <th>Price</th>\n",
       "    </tr>\n",
       "  </thead>\n",
       "  <tbody>\n",
       "    <tr>\n",
       "      <th>Model</th>\n",
       "      <td>1.000000</td>\n",
       "      <td>0.066469</td>\n",
       "      <td>0.079546</td>\n",
       "      <td>0.039078</td>\n",
       "      <td>0.046978</td>\n",
       "      <td>0.125517</td>\n",
       "      <td>-0.067923</td>\n",
       "      <td>-0.299453</td>\n",
       "      <td>-0.000457</td>\n",
       "      <td>0.153663</td>\n",
       "      <td>-0.008591</td>\n",
       "    </tr>\n",
       "    <tr>\n",
       "      <th>Colour</th>\n",
       "      <td>0.066469</td>\n",
       "      <td>1.000000</td>\n",
       "      <td>-0.097242</td>\n",
       "      <td>-0.007154</td>\n",
       "      <td>-0.021033</td>\n",
       "      <td>0.048796</td>\n",
       "      <td>0.079634</td>\n",
       "      <td>-0.007244</td>\n",
       "      <td>-0.039224</td>\n",
       "      <td>-0.041765</td>\n",
       "      <td>-0.095782</td>\n",
       "    </tr>\n",
       "    <tr>\n",
       "      <th>Memory</th>\n",
       "      <td>0.079546</td>\n",
       "      <td>-0.097242</td>\n",
       "      <td>1.000000</td>\n",
       "      <td>0.625284</td>\n",
       "      <td>-0.053210</td>\n",
       "      <td>-0.062725</td>\n",
       "      <td>-0.361646</td>\n",
       "      <td>-0.094442</td>\n",
       "      <td>0.063163</td>\n",
       "      <td>-0.155522</td>\n",
       "      <td>0.566660</td>\n",
       "    </tr>\n",
       "    <tr>\n",
       "      <th>RAM</th>\n",
       "      <td>0.039078</td>\n",
       "      <td>-0.007154</td>\n",
       "      <td>0.625284</td>\n",
       "      <td>1.000000</td>\n",
       "      <td>-0.104923</td>\n",
       "      <td>-0.073380</td>\n",
       "      <td>-0.381846</td>\n",
       "      <td>-0.082622</td>\n",
       "      <td>0.092951</td>\n",
       "      <td>-0.124870</td>\n",
       "      <td>0.532024</td>\n",
       "    </tr>\n",
       "    <tr>\n",
       "      <th>Battery_</th>\n",
       "      <td>0.046978</td>\n",
       "      <td>-0.021033</td>\n",
       "      <td>-0.053210</td>\n",
       "      <td>-0.104923</td>\n",
       "      <td>1.000000</td>\n",
       "      <td>0.245957</td>\n",
       "      <td>0.374791</td>\n",
       "      <td>0.150156</td>\n",
       "      <td>0.695641</td>\n",
       "      <td>-0.002150</td>\n",
       "      <td>-0.034297</td>\n",
       "    </tr>\n",
       "    <tr>\n",
       "      <th>Rear Camera</th>\n",
       "      <td>0.125517</td>\n",
       "      <td>0.048796</td>\n",
       "      <td>-0.062725</td>\n",
       "      <td>-0.073380</td>\n",
       "      <td>0.245957</td>\n",
       "      <td>1.000000</td>\n",
       "      <td>0.124321</td>\n",
       "      <td>-0.022927</td>\n",
       "      <td>0.235373</td>\n",
       "      <td>0.021044</td>\n",
       "      <td>-0.043153</td>\n",
       "    </tr>\n",
       "    <tr>\n",
       "      <th>Front Camera</th>\n",
       "      <td>-0.067923</td>\n",
       "      <td>0.079634</td>\n",
       "      <td>-0.361646</td>\n",
       "      <td>-0.381846</td>\n",
       "      <td>0.374791</td>\n",
       "      <td>0.124321</td>\n",
       "      <td>1.000000</td>\n",
       "      <td>0.146588</td>\n",
       "      <td>0.237274</td>\n",
       "      <td>-0.120970</td>\n",
       "      <td>-0.290620</td>\n",
       "    </tr>\n",
       "    <tr>\n",
       "      <th>AI Lens</th>\n",
       "      <td>-0.299453</td>\n",
       "      <td>-0.007244</td>\n",
       "      <td>-0.094442</td>\n",
       "      <td>-0.082622</td>\n",
       "      <td>0.150156</td>\n",
       "      <td>-0.022927</td>\n",
       "      <td>0.146588</td>\n",
       "      <td>1.000000</td>\n",
       "      <td>0.052018</td>\n",
       "      <td>-0.082015</td>\n",
       "      <td>-0.153691</td>\n",
       "    </tr>\n",
       "    <tr>\n",
       "      <th>Mobile Height</th>\n",
       "      <td>-0.000457</td>\n",
       "      <td>-0.039224</td>\n",
       "      <td>0.063163</td>\n",
       "      <td>0.092951</td>\n",
       "      <td>0.695641</td>\n",
       "      <td>0.235373</td>\n",
       "      <td>0.237274</td>\n",
       "      <td>0.052018</td>\n",
       "      <td>1.000000</td>\n",
       "      <td>0.023778</td>\n",
       "      <td>0.176009</td>\n",
       "    </tr>\n",
       "    <tr>\n",
       "      <th>Processor_</th>\n",
       "      <td>0.153663</td>\n",
       "      <td>-0.041765</td>\n",
       "      <td>-0.155522</td>\n",
       "      <td>-0.124870</td>\n",
       "      <td>-0.002150</td>\n",
       "      <td>0.021044</td>\n",
       "      <td>-0.120970</td>\n",
       "      <td>-0.082015</td>\n",
       "      <td>0.023778</td>\n",
       "      <td>1.000000</td>\n",
       "      <td>-0.115475</td>\n",
       "    </tr>\n",
       "    <tr>\n",
       "      <th>Price</th>\n",
       "      <td>-0.008591</td>\n",
       "      <td>-0.095782</td>\n",
       "      <td>0.566660</td>\n",
       "      <td>0.532024</td>\n",
       "      <td>-0.034297</td>\n",
       "      <td>-0.043153</td>\n",
       "      <td>-0.290620</td>\n",
       "      <td>-0.153691</td>\n",
       "      <td>0.176009</td>\n",
       "      <td>-0.115475</td>\n",
       "      <td>1.000000</td>\n",
       "    </tr>\n",
       "  </tbody>\n",
       "</table>\n",
       "</div>"
      ],
      "text/plain": [
       "                  Model    Colour    Memory       RAM  Battery_  Rear Camera  \\\n",
       "Model          1.000000  0.066469  0.079546  0.039078  0.046978     0.125517   \n",
       "Colour         0.066469  1.000000 -0.097242 -0.007154 -0.021033     0.048796   \n",
       "Memory         0.079546 -0.097242  1.000000  0.625284 -0.053210    -0.062725   \n",
       "RAM            0.039078 -0.007154  0.625284  1.000000 -0.104923    -0.073380   \n",
       "Battery_       0.046978 -0.021033 -0.053210 -0.104923  1.000000     0.245957   \n",
       "Rear Camera    0.125517  0.048796 -0.062725 -0.073380  0.245957     1.000000   \n",
       "Front Camera  -0.067923  0.079634 -0.361646 -0.381846  0.374791     0.124321   \n",
       "AI Lens       -0.299453 -0.007244 -0.094442 -0.082622  0.150156    -0.022927   \n",
       "Mobile Height -0.000457 -0.039224  0.063163  0.092951  0.695641     0.235373   \n",
       "Processor_     0.153663 -0.041765 -0.155522 -0.124870 -0.002150     0.021044   \n",
       "Price         -0.008591 -0.095782  0.566660  0.532024 -0.034297    -0.043153   \n",
       "\n",
       "               Front Camera   AI Lens  Mobile Height  Processor_     Price  \n",
       "Model             -0.067923 -0.299453      -0.000457    0.153663 -0.008591  \n",
       "Colour             0.079634 -0.007244      -0.039224   -0.041765 -0.095782  \n",
       "Memory            -0.361646 -0.094442       0.063163   -0.155522  0.566660  \n",
       "RAM               -0.381846 -0.082622       0.092951   -0.124870  0.532024  \n",
       "Battery_           0.374791  0.150156       0.695641   -0.002150 -0.034297  \n",
       "Rear Camera        0.124321 -0.022927       0.235373    0.021044 -0.043153  \n",
       "Front Camera       1.000000  0.146588       0.237274   -0.120970 -0.290620  \n",
       "AI Lens            0.146588  1.000000       0.052018   -0.082015 -0.153691  \n",
       "Mobile Height      0.237274  0.052018       1.000000    0.023778  0.176009  \n",
       "Processor_        -0.120970 -0.082015       0.023778    1.000000 -0.115475  \n",
       "Price             -0.290620 -0.153691       0.176009   -0.115475  1.000000  "
      ]
     },
     "execution_count": 25,
     "metadata": {},
     "output_type": "execute_result"
    }
   ],
   "source": [
    "df_final.corr()"
   ]
  },
  {
   "cell_type": "markdown",
   "metadata": {},
   "source": [
    "**Feature Segregation**"
   ]
  },
  {
   "cell_type": "code",
   "execution_count": 26,
   "metadata": {
    "id": "S-t2zSo1CEsJ"
   },
   "outputs": [],
   "source": [
    "from sklearn.feature_selection import SelectKBest\n",
    "from sklearn.feature_selection import chi2"
   ]
  },
  {
   "cell_type": "code",
   "execution_count": 27,
   "metadata": {
    "id": "albLBxKqCgWz"
   },
   "outputs": [],
   "source": [
    "X = df_final.iloc[:,0:10] # Independent columns\n",
    "y = df_final.iloc[:,[-1]]"
   ]
  },
  {
   "cell_type": "code",
   "execution_count": 28,
   "metadata": {
    "colab": {
     "base_uri": "https://localhost:8080/",
     "height": 424
    },
    "id": "fiS_xdwTCgaI",
    "outputId": "00225832-88a7-4e50-e1c7-d56e77e09d3f"
   },
   "outputs": [
    {
     "data": {
      "text/html": [
       "<div>\n",
       "<style scoped>\n",
       "    .dataframe tbody tr th:only-of-type {\n",
       "        vertical-align: middle;\n",
       "    }\n",
       "\n",
       "    .dataframe tbody tr th {\n",
       "        vertical-align: top;\n",
       "    }\n",
       "\n",
       "    .dataframe thead th {\n",
       "        text-align: right;\n",
       "    }\n",
       "</style>\n",
       "<table border=\"1\" class=\"dataframe\">\n",
       "  <thead>\n",
       "    <tr style=\"text-align: right;\">\n",
       "      <th></th>\n",
       "      <th>Model</th>\n",
       "      <th>Colour</th>\n",
       "      <th>Memory</th>\n",
       "      <th>RAM</th>\n",
       "      <th>Battery_</th>\n",
       "      <th>Rear Camera</th>\n",
       "      <th>Front Camera</th>\n",
       "      <th>AI Lens</th>\n",
       "      <th>Mobile Height</th>\n",
       "      <th>Processor_</th>\n",
       "    </tr>\n",
       "  </thead>\n",
       "  <tbody>\n",
       "    <tr>\n",
       "      <th>0</th>\n",
       "      <td>10</td>\n",
       "      <td>28</td>\n",
       "      <td>64</td>\n",
       "      <td>4</td>\n",
       "      <td>6000</td>\n",
       "      <td>3</td>\n",
       "      <td>7</td>\n",
       "      <td>1</td>\n",
       "      <td>16.76</td>\n",
       "      <td>64</td>\n",
       "    </tr>\n",
       "    <tr>\n",
       "      <th>1</th>\n",
       "      <td>10</td>\n",
       "      <td>28</td>\n",
       "      <td>64</td>\n",
       "      <td>4</td>\n",
       "      <td>6000</td>\n",
       "      <td>3</td>\n",
       "      <td>7</td>\n",
       "      <td>1</td>\n",
       "      <td>16.76</td>\n",
       "      <td>64</td>\n",
       "    </tr>\n",
       "    <tr>\n",
       "      <th>2</th>\n",
       "      <td>18</td>\n",
       "      <td>28</td>\n",
       "      <td>128</td>\n",
       "      <td>8</td>\n",
       "      <td>5000</td>\n",
       "      <td>7</td>\n",
       "      <td>3</td>\n",
       "      <td>0</td>\n",
       "      <td>16.64</td>\n",
       "      <td>45</td>\n",
       "    </tr>\n",
       "    <tr>\n",
       "      <th>3</th>\n",
       "      <td>29</td>\n",
       "      <td>50</td>\n",
       "      <td>32</td>\n",
       "      <td>2</td>\n",
       "      <td>5000</td>\n",
       "      <td>10</td>\n",
       "      <td>7</td>\n",
       "      <td>0</td>\n",
       "      <td>16.56</td>\n",
       "      <td>33</td>\n",
       "    </tr>\n",
       "    <tr>\n",
       "      <th>4</th>\n",
       "      <td>6</td>\n",
       "      <td>28</td>\n",
       "      <td>128</td>\n",
       "      <td>8</td>\n",
       "      <td>5000</td>\n",
       "      <td>7</td>\n",
       "      <td>7</td>\n",
       "      <td>1</td>\n",
       "      <td>16.76</td>\n",
       "      <td>8</td>\n",
       "    </tr>\n",
       "    <tr>\n",
       "      <th>...</th>\n",
       "      <td>...</td>\n",
       "      <td>...</td>\n",
       "      <td>...</td>\n",
       "      <td>...</td>\n",
       "      <td>...</td>\n",
       "      <td>...</td>\n",
       "      <td>...</td>\n",
       "      <td>...</td>\n",
       "      <td>...</td>\n",
       "      <td>...</td>\n",
       "    </tr>\n",
       "    <tr>\n",
       "      <th>536</th>\n",
       "      <td>16</td>\n",
       "      <td>28</td>\n",
       "      <td>256</td>\n",
       "      <td>8</td>\n",
       "      <td>3900</td>\n",
       "      <td>7</td>\n",
       "      <td>1</td>\n",
       "      <td>0</td>\n",
       "      <td>15.49</td>\n",
       "      <td>14</td>\n",
       "    </tr>\n",
       "    <tr>\n",
       "      <th>537</th>\n",
       "      <td>16</td>\n",
       "      <td>28</td>\n",
       "      <td>32</td>\n",
       "      <td>2</td>\n",
       "      <td>3100</td>\n",
       "      <td>8</td>\n",
       "      <td>4</td>\n",
       "      <td>0</td>\n",
       "      <td>12.70</td>\n",
       "      <td>42</td>\n",
       "    </tr>\n",
       "    <tr>\n",
       "      <th>538</th>\n",
       "      <td>16</td>\n",
       "      <td>58</td>\n",
       "      <td>64</td>\n",
       "      <td>4</td>\n",
       "      <td>5000</td>\n",
       "      <td>7</td>\n",
       "      <td>9</td>\n",
       "      <td>0</td>\n",
       "      <td>16.76</td>\n",
       "      <td>17</td>\n",
       "    </tr>\n",
       "    <tr>\n",
       "      <th>539</th>\n",
       "      <td>52</td>\n",
       "      <td>28</td>\n",
       "      <td>128</td>\n",
       "      <td>8</td>\n",
       "      <td>5000</td>\n",
       "      <td>7</td>\n",
       "      <td>5</td>\n",
       "      <td>0</td>\n",
       "      <td>16.26</td>\n",
       "      <td>6</td>\n",
       "    </tr>\n",
       "    <tr>\n",
       "      <th>540</th>\n",
       "      <td>16</td>\n",
       "      <td>28</td>\n",
       "      <td>128</td>\n",
       "      <td>4</td>\n",
       "      <td>5000</td>\n",
       "      <td>7</td>\n",
       "      <td>9</td>\n",
       "      <td>0</td>\n",
       "      <td>16.66</td>\n",
       "      <td>34</td>\n",
       "    </tr>\n",
       "  </tbody>\n",
       "</table>\n",
       "<p>541 rows × 10 columns</p>\n",
       "</div>"
      ],
      "text/plain": [
       "     Model  Colour  Memory  RAM  Battery_  Rear Camera  Front Camera  AI Lens  \\\n",
       "0       10      28      64    4      6000            3             7        1   \n",
       "1       10      28      64    4      6000            3             7        1   \n",
       "2       18      28     128    8      5000            7             3        0   \n",
       "3       29      50      32    2      5000           10             7        0   \n",
       "4        6      28     128    8      5000            7             7        1   \n",
       "..     ...     ...     ...  ...       ...          ...           ...      ...   \n",
       "536     16      28     256    8      3900            7             1        0   \n",
       "537     16      28      32    2      3100            8             4        0   \n",
       "538     16      58      64    4      5000            7             9        0   \n",
       "539     52      28     128    8      5000            7             5        0   \n",
       "540     16      28     128    4      5000            7             9        0   \n",
       "\n",
       "     Mobile Height  Processor_  \n",
       "0            16.76          64  \n",
       "1            16.76          64  \n",
       "2            16.64          45  \n",
       "3            16.56          33  \n",
       "4            16.76           8  \n",
       "..             ...         ...  \n",
       "536          15.49          14  \n",
       "537          12.70          42  \n",
       "538          16.76          17  \n",
       "539          16.26           6  \n",
       "540          16.66          34  \n",
       "\n",
       "[541 rows x 10 columns]"
      ]
     },
     "execution_count": 28,
     "metadata": {},
     "output_type": "execute_result"
    }
   ],
   "source": [
    "X"
   ]
  },
  {
   "cell_type": "code",
   "execution_count": 29,
   "metadata": {
    "colab": {
     "base_uri": "https://localhost:8080/",
     "height": 424
    },
    "id": "7wcYj7czCgeJ",
    "outputId": "12a0f62a-9d34-4ba0-b081-d8665045d3be"
   },
   "outputs": [
    {
     "data": {
      "text/html": [
       "<div>\n",
       "<style scoped>\n",
       "    .dataframe tbody tr th:only-of-type {\n",
       "        vertical-align: middle;\n",
       "    }\n",
       "\n",
       "    .dataframe tbody tr th {\n",
       "        vertical-align: top;\n",
       "    }\n",
       "\n",
       "    .dataframe thead th {\n",
       "        text-align: right;\n",
       "    }\n",
       "</style>\n",
       "<table border=\"1\" class=\"dataframe\">\n",
       "  <thead>\n",
       "    <tr style=\"text-align: right;\">\n",
       "      <th></th>\n",
       "      <th>Price</th>\n",
       "    </tr>\n",
       "  </thead>\n",
       "  <tbody>\n",
       "    <tr>\n",
       "      <th>0</th>\n",
       "      <td>7299</td>\n",
       "    </tr>\n",
       "    <tr>\n",
       "      <th>1</th>\n",
       "      <td>7299</td>\n",
       "    </tr>\n",
       "    <tr>\n",
       "      <th>2</th>\n",
       "      <td>11999</td>\n",
       "    </tr>\n",
       "    <tr>\n",
       "      <th>3</th>\n",
       "      <td>5649</td>\n",
       "    </tr>\n",
       "    <tr>\n",
       "      <th>4</th>\n",
       "      <td>8999</td>\n",
       "    </tr>\n",
       "    <tr>\n",
       "      <th>...</th>\n",
       "      <td>...</td>\n",
       "    </tr>\n",
       "    <tr>\n",
       "      <th>536</th>\n",
       "      <td>79999</td>\n",
       "    </tr>\n",
       "    <tr>\n",
       "      <th>537</th>\n",
       "      <td>5998</td>\n",
       "    </tr>\n",
       "    <tr>\n",
       "      <th>538</th>\n",
       "      <td>9990</td>\n",
       "    </tr>\n",
       "    <tr>\n",
       "      <th>539</th>\n",
       "      <td>38999</td>\n",
       "    </tr>\n",
       "    <tr>\n",
       "      <th>540</th>\n",
       "      <td>15999</td>\n",
       "    </tr>\n",
       "  </tbody>\n",
       "</table>\n",
       "<p>541 rows × 1 columns</p>\n",
       "</div>"
      ],
      "text/plain": [
       "     Price\n",
       "0     7299\n",
       "1     7299\n",
       "2    11999\n",
       "3     5649\n",
       "4     8999\n",
       "..     ...\n",
       "536  79999\n",
       "537   5998\n",
       "538   9990\n",
       "539  38999\n",
       "540  15999\n",
       "\n",
       "[541 rows x 1 columns]"
      ]
     },
     "execution_count": 29,
     "metadata": {},
     "output_type": "execute_result"
    }
   ],
   "source": [
    "y"
   ]
  },
  {
   "cell_type": "markdown",
   "metadata": {
    "id": "iXyGuhpRGekN"
   },
   "source": [
    "**Feature Importance**"
   ]
  },
  {
   "cell_type": "code",
   "execution_count": 30,
   "metadata": {
    "id": "8G19rGW7CgjP"
   },
   "outputs": [],
   "source": [
    "# Apply SelectKBest class to extract top 10 best features\n",
    "bestfeatures = SelectKBest(score_func=chi2, k=4)\n",
    "fit = bestfeatures.fit(X,y)"
   ]
  },
  {
   "cell_type": "code",
   "execution_count": 33,
   "metadata": {
    "colab": {
     "base_uri": "https://localhost:8080/",
     "height": 363
    },
    "id": "tRLBu-oDCgm6",
    "outputId": "00e5b493-df94-4c3b-bea5-6bf002181bbd"
   },
   "outputs": [
    {
     "data": {
      "text/html": [
       "<div>\n",
       "<style scoped>\n",
       "    .dataframe tbody tr th:only-of-type {\n",
       "        vertical-align: middle;\n",
       "    }\n",
       "\n",
       "    .dataframe tbody tr th {\n",
       "        vertical-align: top;\n",
       "    }\n",
       "\n",
       "    .dataframe thead th {\n",
       "        text-align: right;\n",
       "    }\n",
       "</style>\n",
       "<table border=\"1\" class=\"dataframe\">\n",
       "  <thead>\n",
       "    <tr style=\"text-align: right;\">\n",
       "      <th></th>\n",
       "      <th>Specs</th>\n",
       "      <th>Score</th>\n",
       "    </tr>\n",
       "  </thead>\n",
       "  <tbody>\n",
       "    <tr>\n",
       "      <th>0</th>\n",
       "      <td>Model</td>\n",
       "      <td>4434.824602</td>\n",
       "    </tr>\n",
       "    <tr>\n",
       "      <th>1</th>\n",
       "      <td>Colour</td>\n",
       "      <td>768.170693</td>\n",
       "    </tr>\n",
       "    <tr>\n",
       "      <th>2</th>\n",
       "      <td>Memory</td>\n",
       "      <td>14126.732211</td>\n",
       "    </tr>\n",
       "    <tr>\n",
       "      <th>3</th>\n",
       "      <td>RAM</td>\n",
       "      <td>305.284365</td>\n",
       "    </tr>\n",
       "    <tr>\n",
       "      <th>4</th>\n",
       "      <td>Battery_</td>\n",
       "      <td>61410.920261</td>\n",
       "    </tr>\n",
       "    <tr>\n",
       "      <th>5</th>\n",
       "      <td>Rear Camera</td>\n",
       "      <td>339.381693</td>\n",
       "    </tr>\n",
       "    <tr>\n",
       "      <th>6</th>\n",
       "      <td>Front Camera</td>\n",
       "      <td>512.545959</td>\n",
       "    </tr>\n",
       "    <tr>\n",
       "      <th>7</th>\n",
       "      <td>AI Lens</td>\n",
       "      <td>212.897549</td>\n",
       "    </tr>\n",
       "    <tr>\n",
       "      <th>8</th>\n",
       "      <td>Mobile Height</td>\n",
       "      <td>144.142050</td>\n",
       "    </tr>\n",
       "    <tr>\n",
       "      <th>9</th>\n",
       "      <td>Processor_</td>\n",
       "      <td>3222.077329</td>\n",
       "    </tr>\n",
       "  </tbody>\n",
       "</table>\n",
       "</div>"
      ],
      "text/plain": [
       "           Specs         Score\n",
       "0          Model   4434.824602\n",
       "1         Colour    768.170693\n",
       "2         Memory  14126.732211\n",
       "3            RAM    305.284365\n",
       "4       Battery_  61410.920261\n",
       "5    Rear Camera    339.381693\n",
       "6   Front Camera    512.545959\n",
       "7        AI Lens    212.897549\n",
       "8  Mobile Height    144.142050\n",
       "9     Processor_   3222.077329"
      ]
     },
     "execution_count": 33,
     "metadata": {},
     "output_type": "execute_result"
    }
   ],
   "source": [
    "dfscores = pd.DataFrame(fit.scores_)\n",
    "dfcolumns = pd.DataFrame(X.columns)\n",
    "# Concat two dataframes for better visualization\n",
    "featureScores = pd.concat([dfcolumns,dfscores],axis=1)\n",
    "featureScores.columns = ['Specs','Score'] #naming the dataframe columns\n",
    "featureScores"
   ]
  },
  {
   "cell_type": "code",
   "execution_count": 34,
   "metadata": {
    "colab": {
     "base_uri": "https://localhost:8080/"
    },
    "id": "FXar8grkCgrX",
    "outputId": "35d3d712-eda5-49ae-b3ae-5cb8911c72a1"
   },
   "outputs": [
    {
     "name": "stdout",
     "output_type": "stream",
     "text": [
      "        Specs         Score\n",
      "4    Battery_  61410.920261\n",
      "2      Memory  14126.732211\n",
      "0       Model   4434.824602\n",
      "9  Processor_   3222.077329\n"
     ]
    }
   ],
   "source": [
    "print(featureScores.nlargest(4,'Score'))"
   ]
  },
  {
   "cell_type": "markdown",
   "metadata": {},
   "source": [
    "**Extra Tree Classifier Method**"
   ]
  },
  {
   "cell_type": "code",
   "execution_count": 35,
   "metadata": {
    "colab": {
     "base_uri": "https://localhost:8080/",
     "height": 80
    },
    "id": "pgF7JgSIGeMk",
    "outputId": "2b950543-6955-469b-e45e-e71dd91809bb"
   },
   "outputs": [
    {
     "data": {
      "text/plain": [
       "ExtraTreesClassifier()"
      ]
     },
     "execution_count": 35,
     "metadata": {},
     "output_type": "execute_result"
    }
   ],
   "source": [
    "from sklearn.ensemble import ExtraTreesClassifier\n",
    "import matplotlib.pyplot as plt\n",
    "model = ExtraTreesClassifier()\n",
    "model.fit(X,y)"
   ]
  },
  {
   "cell_type": "code",
   "execution_count": 36,
   "metadata": {
    "colab": {
     "base_uri": "https://localhost:8080/",
     "height": 547
    },
    "id": "OgMNpXQLCguU",
    "outputId": "304e9315-19eb-4644-d0e0-9ec370956273"
   },
   "outputs": [
    {
     "name": "stdout",
     "output_type": "stream",
     "text": [
      "[0.17728067 0.06909507 0.07057869 0.10406003 0.06841618 0.09670253\n",
      " 0.08002573 0.01809831 0.13865738 0.17708542]\n"
     ]
    },
    {
     "data": {
      "image/png": "[encoded data removed]",
      "text/plain": [
       "<Figure size 432x288 with 1 Axes>"
      ]
     },
     "metadata": {
      "needs_background": "light"
     },
     "output_type": "display_data"
    }
   ],
   "source": [
    "print(model.feature_importances_) # use inbuilt class feature_importances of tree based classifiers\n",
    "\n",
    "# Plot graph of feature importances for better visualization\n",
    "feat_importances = pd.Series(model.feature_importances_, index=X.columns)\n",
    "feat_importances.nlargest(10).plot(kind='bar')\n",
    "plt.show()"
   ]
  },
  {
   "cell_type": "code",
   "execution_count": 51,
   "metadata": {
    "colab": {
     "base_uri": "https://localhost:8080/",
     "height": 490
    },
    "id": "y9mfvoHW2APd",
    "outputId": "5cfb3242-5ab2-4d4f-df18-693748258864"
   },
   "outputs": [
    {
     "data": {
      "text/plain": [
       "Model                  Colour       \n",
       "APPLE iPhone 14 Plus   Midnight         80999.0\n",
       "                       Purple           80999.0\n",
       "                       Starlight        80999.0\n",
       "SAMSUNG Galaxy S23 5G  Cream            79999.0\n",
       "Google Pixel 7         Lemongrass       55999.0\n",
       "                                         ...   \n",
       "micromax               Light Silver      1375.0\n",
       "micromax 2             Nebula Green      1299.0\n",
       "micromax 1             Eclipse Black     1299.0\n",
       "micromax               Lake Blue         1199.0\n",
       "redmi min              M3)                920.0\n",
       "Name: Price, Length: 386, dtype: float64"
      ]
     },
     "execution_count": 51,
     "metadata": {},
     "output_type": "execute_result"
    }
   ],
   "source": [
    "df.groupby(['Model','Colour'])['Price'].mean().sort_values(ascending=False)\n",
    "#Model and Colour wise grouping and Price Display"
   ]
  },
  {
   "cell_type": "code",
   "execution_count": 41,
   "metadata": {
    "colab": {
     "base_uri": "https://localhost:8080/",
     "height": 490
    },
    "id": "YTtoSnzH346S",
    "outputId": "f2c36dae-1b81-4e2c-9508-ad60887d5256"
   },
   "outputs": [
    {
     "name": "stdout",
     "output_type": "stream",
     "text": [
      "     Unnamed: 0                 Model     Colour  Memory  RAM  Battery_  \\\n",
      "474         546       APPLE iPhone 11      Black      64    8      3110   \n",
      "493         576  APPLE iPhone 14 Plus   Midnight     128    6      4323   \n",
      "520         614  APPLE iPhone 14 Plus     Purple     128    3      4323   \n",
      "525         621  APPLE iPhone 14 Plus  Starlight     128    4      4323   \n",
      "532         631       APPLE iPhone 12       Blue      64    8      2815   \n",
      "\n",
      "    Rear Camera Front Camera  AI Lens  Mobile Height Processor_  Price  \n",
      "474        12MP         12MP        0          15.49        ios  41199  \n",
      "493        12MP         12MP        0          17.02        IOS  80999  \n",
      "520        12MP         12MP        0          17.02     6 Core  80999  \n",
      "525        12MP         12MP        0          17.02        ios  80999  \n",
      "532        12MP         12MP        0          15.49        ios  53999  \n"
     ]
    }
   ],
   "source": [
    "#To find out Apple model Phone details\n",
    "apple_models = df[df['Model'].str.contains('Apple', case=False, na=False)]\n",
    "print(apple_models)\n"
   ]
  },
  {
   "cell_type": "code",
   "execution_count": 39,
   "metadata": {
    "colab": {
     "base_uri": "https://localhost:8080/"
    },
    "id": "wvRFFt6xoeyp",
    "outputId": "8648e842-e399-43f9-9539-4a96acf3b903"
   },
   "outputs": [
    {
     "name": "stdout",
     "output_type": "stream",
     "text": [
      "                    Model  Price\n",
      "493  APPLE iPhone 14 Plus  80999\n",
      "520  APPLE iPhone 14 Plus  80999\n",
      "525  APPLE iPhone 14 Plus  80999\n"
     ]
    }
   ],
   "source": [
    "# find the apple models  with top 3 prices\n",
    "\n",
    "apple_models = df[df['Model'].str.contains('Apple', case=False, na=False)]\n",
    "top_3_apple_prices = apple_models.nlargest(3, 'Price')\n",
    "print(top_3_apple_prices[['Model', 'Price']])\n"
   ]
  },
  {
   "cell_type": "code",
   "execution_count": 42,
   "metadata": {
    "colab": {
     "base_uri": "https://localhost:8080/"
    },
    "id": "s0gSzz6EqNAW",
    "outputId": "e930591c-6bf9-4fc8-c335-4683ae89431d"
   },
   "outputs": [
    {
     "name": "stdout",
     "output_type": "stream",
     "text": [
      "Top 3 Prices for Model: 10\n",
      "    Model  Price  Colour  Rear Camera  Processor_\n",
      "0      10   7299      28            3          64\n",
      "1      10   7299      28            3          64\n",
      "12     10   7299      28            3          64\n",
      "\n",
      "\n",
      "Top 3 Prices for Model: 18\n",
      "     Model  Price  Colour  Rear Camera  Processor_\n",
      "2       18  11999      28            7          45\n",
      "43      18  11999      28            7          45\n",
      "273     18  10999      28            7          45\n",
      "\n",
      "\n",
      "Top 3 Prices for Model: 29\n",
      "     Model  Price  Colour  Rear Camera  Processor_\n",
      "53      29   6999      50           10          33\n",
      "76      29   6299      50           10          33\n",
      "106     29   6299      28           10          33\n",
      "\n",
      "\n",
      "Top 3 Prices for Model: 6\n",
      "   Model  Price  Colour  Rear Camera  Processor_\n",
      "4      6   8999      28            7           8\n",
      "5      6   8999      21            7           8\n",
      "6      6   8999      37            7           8\n",
      "\n",
      "\n",
      "Top 3 Prices for Model: 39\n",
      "     Model  Price  Colour  Rear Camera  Processor_\n",
      "41      39  10999      28            7          45\n",
      "114     39  10999      44            7          45\n",
      "248     39  10999      34            7          45\n",
      "\n",
      "\n",
      "Top 3 Prices for Model: 53\n",
      "    Model  Price  Colour  Rear Camera  Processor_\n",
      "13     53  10699      28            7           7\n",
      "37     53  10699      28            7           7\n",
      "45     53  10699      28            7           7\n",
      "\n",
      "\n",
      "Top 3 Prices for Model: 16\n",
      "     Model  Price  Colour  Rear Camera  Processor_\n",
      "536     16  79999      28            7          14\n",
      "532     16  53999       7            2          70\n",
      "222     16  49999      45            7          14\n",
      "\n",
      "\n",
      "Top 3 Prices for Model: 20\n",
      "     Model  Price  Colour  Rear Camera  Processor_\n",
      "19      20   7299      11            3          65\n",
      "62      20   7299      28            3          65\n",
      "169     20   6799      11            3          65\n",
      "\n",
      "\n",
      "Top 3 Prices for Model: 81\n",
      "    Model  Price  Colour  Rear Camera  Processor_\n",
      "20     81  15999      28            7           1\n",
      "21     81  15999      33            7           1\n",
      "22     81  15999      22            7           1\n",
      "\n",
      "\n",
      "Top 3 Prices for Model: 13\n",
      "     Model  Price  Colour  Rear Camera  Processor_\n",
      "28      13   6199      28           10          60\n",
      "122     13   6199      28           10          60\n",
      "123     13   6199      28           10          60\n",
      "\n",
      "\n",
      "Top 3 Prices for Model: 41\n",
      "    Model  Price  Colour  Rear Camera  Processor_\n",
      "29     41   6599       6           10          33\n",
      "30     41   6599      29           10          33\n",
      "32     41   6599      30           10          33\n",
      "\n",
      "\n",
      "Top 3 Prices for Model: 30\n",
      "    Model  Price  Colour  Rear Camera  Processor_\n",
      "35     30   8999       9            7          36\n",
      "49     30   8999      46            7          36\n",
      "31     30   7749      46            7          36\n",
      "\n",
      "\n",
      "Top 3 Prices for Model: 22\n",
      "     Model  Price  Colour  Rear Camera  Processor_\n",
      "38      22   9999      28            7          11\n",
      "47      22   9999      28            7          11\n",
      "315     22   9499      28            7          11\n",
      "\n",
      "\n",
      "Top 3 Prices for Model: 32\n",
      "     Model  Price  Colour  Rear Camera  Processor_\n",
      "120     32  13999      59            7          27\n",
      "289     32  13999       9            7          27\n",
      "39      32  11999       9            7          27\n",
      "\n",
      "\n",
      "Top 3 Prices for Model: 21\n",
      "    Model  Price  Colour  Rear Camera  Processor_\n",
      "40     21   7999      17            7          35\n",
      "46     21   7999      28            7          35\n",
      "48     21   7999      28            7          35\n",
      "\n",
      "\n",
      "Top 3 Prices for Model: 80\n",
      "    Model  Price  Colour  Rear Camera  Processor_\n",
      "50     80  20999      28           11          59\n",
      "51     80  20999      28           11          59\n",
      "54     80  18999      28           11          59\n",
      "\n",
      "\n",
      "Top 3 Prices for Model: 19\n",
      "    Model  Price  Colour  Rear Camera  Processor_\n",
      "75     19  16499      28            7          48\n",
      "88     19  16499      28            7          48\n",
      "52     19  15499      28            7          48\n",
      "\n",
      "\n",
      "Top 3 Prices for Model: 35\n",
      "     Model  Price  Colour  Rear Camera  Processor_\n",
      "77      35  14499      28            7          38\n",
      "99      35  14499      46            7          38\n",
      "100     35  14499      59            7          38\n",
      "\n",
      "\n",
      "Top 3 Prices for Model: 71\n",
      "    Model  Price  Colour  Rear Camera  Processor_\n",
      "63     71  10499      51            7          67\n",
      "64     71  10499       0            7          67\n",
      "67     71  10499      40            7          67\n",
      "\n",
      "\n",
      "Top 3 Prices for Model: 54\n",
      "     Model  Price  Colour  Rear Camera  Processor_\n",
      "65      54  14490      28            7           5\n",
      "89      54  14490       5            7           5\n",
      "130     54  14490      41            7           5\n",
      "\n",
      "\n",
      "Top 3 Prices for Model: 67\n",
      "    Model  Price  Colour  Rear Camera  Processor_\n",
      "68     67   6499      28           10          67\n",
      "69     67   6499      27           10          67\n",
      "71     67   6499      28           10          67\n",
      "\n",
      "\n",
      "Top 3 Prices for Model: 37\n",
      "     Model  Price  Colour  Rear Camera  Processor_\n",
      "127     37  17999      28            6          46\n",
      "200     37  17999      28            6          46\n",
      "232     37  17999      28            6          46\n",
      "\n",
      "\n",
      "Top 3 Prices for Model: 33\n",
      "     Model  Price  Colour  Rear Camera  Processor_\n",
      "461     33  16499      46            9          37\n",
      "74      33  13999      59            9          37\n",
      "188     33  13999       9            9          37\n",
      "\n",
      "\n",
      "Top 3 Prices for Model: 40\n",
      "     Model  Price  Colour  Rear Camera  Processor_\n",
      "157     40  11999      28            7          13\n",
      "158     40  11999      28            7          13\n",
      "252     40  11999      28            7          13\n",
      "\n",
      "\n",
      "Top 3 Prices for Model: 72\n",
      "    Model  Price  Colour  Rear Camera  Processor_\n",
      "79     72  13999      57            9          12\n",
      "80     72  13999      49            9          12\n",
      "82     72  13999      48            9          12\n",
      "\n",
      "\n",
      "Top 3 Prices for Model: 63\n",
      "     Model  Price  Colour  Rear Camera  Processor_\n",
      "96      63  19999      14            1          48\n",
      "102     63  19999      25            1          48\n",
      "104     63  19999      38            1          48\n",
      "\n",
      "\n",
      "Top 3 Prices for Model: 25\n",
      "     Model  Price  Colour  Rear Camera  Processor_\n",
      "254     25   5999      28           10          66\n",
      "275     25   5999      28           10          66\n",
      "98      25   1449      38            0          55\n",
      "\n",
      "\n",
      "Top 3 Prices for Model: 34\n",
      "     Model  Price  Colour  Rear Camera  Processor_\n",
      "287     34  16999       9            7          29\n",
      "101     34  15999      59            7          29\n",
      "370     34  15999       9            7          29\n",
      "\n",
      "\n",
      "Top 3 Prices for Model: 61\n",
      "     Model  Price  Colour  Rear Camera  Processor_\n",
      "193     61   2499      13            5          15\n",
      "108     61   1849      28            5          55\n",
      "155     61   1299      39            0          55\n",
      "\n",
      "\n",
      "Top 3 Prices for Model: 55\n",
      "     Model  Price  Colour  Rear Camera  Processor_\n",
      "113     55  16999       0            7          50\n",
      "163     55  16999      28            7          50\n",
      "170     55  16999      20            7          50\n",
      "\n",
      "\n",
      "Top 3 Prices for Model: 60\n",
      "     Model  Price  Colour  Rear Camera  Processor_\n",
      "116     60   1422      41            0          55\n",
      "181     60   1375      31            0          55\n",
      "250     60   1199      27            0          14\n",
      "\n",
      "\n",
      "Top 3 Prices for Model: 17\n",
      "     Model  Price  Colour  Rear Camera  Processor_\n",
      "117     17  29999      28            7           2\n",
      "154     17  29999      39            7           2\n",
      "277     17  29999      28            7           2\n",
      "\n",
      "\n",
      "Top 3 Prices for Model: 74\n",
      "     Model  Price  Colour  Rear Camera  Processor_\n",
      "266     74  13499      28            6          21\n",
      "125     74  12499      28            6          21\n",
      "134     74  12499      28            6          21\n",
      "\n",
      "\n",
      "Top 3 Prices for Model: 9\n",
      "     Model  Price  Colour  Rear Camera  Processor_\n",
      "126      9   9999      28            7          36\n",
      "139      9   9999      28            7          36\n",
      "148      9   9999      19            7          36\n",
      "\n",
      "\n",
      "Top 3 Prices for Model: 62\n",
      "     Model  Price  Colour  Rear Camera  Processor_\n",
      "168     62  15499      28            7          39\n",
      "128     62  12499      28            7          39\n",
      "142     62  12499      28            7          39\n",
      "\n",
      "\n",
      "Top 3 Prices for Model: 1\n",
      "     Model  Price  Colour  Rear Camera  Processor_\n",
      "329      1  30999      28            7          53\n",
      "135      1  28999      28            2          14\n",
      "136      1  28999      28            2          14\n",
      "\n",
      "\n",
      "Top 3 Prices for Model: 4\n",
      "     Model  Price  Colour  Rear Camera  Processor_\n",
      "138      4  11499      28            7           3\n",
      "144      4  11499      28            7           3\n",
      "151      4  11499      47            7           3\n",
      "\n",
      "\n",
      "Top 3 Prices for Model: 73\n",
      "     Model  Price  Colour  Rear Camera  Processor_\n",
      "464     73  32299      28            7          54\n",
      "140     73  23999      28            7          54\n",
      "141     73  23999      28            7          54\n",
      "\n",
      "\n",
      "Top 3 Prices for Model: 44\n",
      "     Model  Price  Colour  Rear Camera  Processor_\n",
      "251     44  16999      56            7          58\n",
      "256     44  16999      28            7          58\n",
      "265     44  16999      26            7          58\n",
      "\n",
      "\n",
      "Top 3 Prices for Model: 45\n",
      "     Model  Price  Colour  Rear Camera  Processor_\n",
      "145     45  18999      28            6          44\n",
      "146     45  18999      28            6          44\n",
      "147     45  18999      28            6          44\n",
      "\n",
      "\n",
      "Top 3 Prices for Model: 42\n",
      "     Model  Price  Colour  Rear Camera  Processor_\n",
      "518     42  29990      28            9           4\n",
      "159     42  23999      28            9           4\n",
      "345     42  23999      28            9           4\n",
      "\n",
      "\n",
      "Top 3 Prices for Model: 23\n",
      "     Model  Price  Colour  Rear Camera  Processor_\n",
      "288     23  13999      28            7          45\n",
      "443     23  13999      28            7          45\n",
      "164     23  11248      28            7          45\n",
      "\n",
      "\n",
      "Top 3 Prices for Model: 38\n",
      "     Model  Price  Colour  Rear Camera  Processor_\n",
      "166     38  23999      24            1          51\n",
      "175     38  23999      28            1          51\n",
      "224     38  23999      59            1          51\n",
      "\n",
      "\n",
      "Top 3 Prices for Model: 12\n",
      "     Model  Price  Colour  Rear Camera  Processor_\n",
      "172     12   5999      19           10          33\n",
      "173     12   5999      28           10          33\n",
      "174     12   5999      28           10          33\n",
      "\n",
      "\n",
      "Top 3 Prices for Model: 69\n",
      "     Model  Price  Colour  Rear Camera  Processor_\n",
      "179     69   8749      13            3          67\n",
      "203     69   8749      31            3          67\n",
      "180     69   8049      31            3          67\n",
      "\n",
      "\n",
      "Top 3 Prices for Model: 26\n",
      "     Model  Price  Colour  Rear Camera  Processor_\n",
      "183     26  12499      27            7          34\n",
      "257     26  12499      28            7          34\n",
      "258     26  12499      34            7          34\n",
      "\n",
      "\n",
      "Top 3 Prices for Model: 66\n",
      "     Model  Price  Colour  Rear Camera  Processor_\n",
      "186     66  16999      28            7          30\n",
      "195     66  16999      28            7          30\n",
      "196     66  16999      28            7          30\n",
      "\n",
      "\n",
      "Top 3 Prices for Model: 77\n",
      "     Model  Price  Colour  Rear Camera  Processor_\n",
      "292     77   8995      12           10          68\n",
      "529     77   8460      36           10          68\n",
      "199     77   7245      12           10          68\n",
      "\n",
      "\n",
      "Top 3 Prices for Model: 46\n",
      "     Model  Price  Colour  Rear Camera  Processor_\n",
      "201     46  26999      52            7          24\n",
      "263     46  26999      21            7          24\n",
      "422     46  26999      42            7          24\n",
      "\n",
      "\n",
      "Top 3 Prices for Model: 14\n",
      "     Model  Price  Colour  Rear Camera  Processor_\n",
      "205     14  15999      28            7          32\n",
      "223     14  15999      28            7          32\n",
      "241     14  15999      28            7          32\n",
      "\n",
      "\n",
      "Top 3 Prices for Model: 36\n",
      "     Model  Price  Colour  Rear Camera  Processor_\n",
      "350     36  19499      28            9          48\n",
      "352     36  19499      28            9          48\n",
      "411     36  19499      28            9          48\n",
      "\n",
      "\n",
      "Top 3 Prices for Model: 47\n",
      "     Model  Price  Colour  Rear Camera  Processor_\n",
      "272     47  32999      28            4          24\n",
      "283     47  32999       1            4          24\n",
      "358     47  32999      28            4          24\n",
      "\n",
      "\n",
      "Top 3 Prices for Model: 78\n",
      "     Model  Price  Colour  Rear Camera  Processor_\n",
      "210     78  17999      35            7          45\n",
      "211     78  17999      28            7          45\n",
      "234     78  17999      53            7          45\n",
      "\n",
      "\n",
      "Top 3 Prices for Model: 85\n",
      "     Model  Price  Colour  Rear Camera  Processor_\n",
      "396     85  36999      28            7          28\n",
      "225     85  32999      28            7          28\n",
      "239     85  32999      28            7          28\n",
      "\n",
      "\n",
      "Top 3 Prices for Model: 75\n",
      "     Model  Price  Colour  Rear Camera  Processor_\n",
      "226     75  12999      28            7          37\n",
      "231     75  12999      28            7          37\n",
      "236     75  12999      28            7          37\n",
      "\n",
      "\n",
      "Top 3 Prices for Model: 5\n",
      "     Model  Price  Colour  Rear Camera  Processor_\n",
      "227      5   8499      28            3          16\n",
      "228      5   8499       2            3          16\n",
      "229      5   8499      28            3          16\n",
      "\n",
      "\n",
      "Top 3 Prices for Model: 24\n",
      "     Model  Price  Colour  Rear Camera  Processor_\n",
      "233     24  13999      28            7          45\n",
      "433     24  13999      28            7          45\n",
      "304     24  11249      28            7          45\n",
      "\n",
      "\n",
      "Top 3 Prices for Model: 27\n",
      "     Model  Price  Colour  Rear Camera  Processor_\n",
      "237     27   9499       7           10          40\n",
      "383     27   9499      28           10          40\n",
      "385     27   9499      28           10          40\n",
      "\n",
      "\n",
      "Top 3 Prices for Model: 31\n",
      "     Model  Price  Colour  Rear Camera  Processor_\n",
      "326     31  32999      28            9          49\n",
      "408     31  32999      18            9          49\n",
      "420     31  32999       8            9          49\n",
      "\n",
      "\n",
      "Top 3 Prices for Model: 65\n",
      "     Model  Price  Colour  Rear Camera  Processor_\n",
      "260     65  21999       2            7          32\n",
      "261     65  21999      34            7          32\n",
      "280     65  21999      28            7          32\n",
      "\n",
      "\n",
      "Top 3 Prices for Model: 7\n",
      "     Model  Price  Colour  Rear Camera  Processor_\n",
      "268      7   8999      28            7          41\n",
      "269      7   8999      28            7          41\n",
      "270      7   8999      28            7          41\n",
      "\n",
      "\n",
      "Top 3 Prices for Model: 87\n",
      "     Model  Price  Colour  Rear Camera  Processor_\n",
      "341     87  12999      54            3          40\n",
      "276     87  12990      16            3          40\n",
      "432     87  12989      28            3          40\n",
      "\n",
      "\n",
      "Top 3 Prices for Model: 76\n",
      "     Model  Price  Colour  Rear Camera  Processor_\n",
      "351     76   9349       8           10          56\n",
      "282     76   7370      36           10          56\n",
      "281     76   6978       8           10          56\n",
      "\n",
      "\n",
      "Top 3 Prices for Model: 70\n",
      "     Model  Price  Colour  Rear Camera  Processor_\n",
      "296     70   9999      40            7          67\n",
      "297     70   9999      51            7          67\n",
      "298     70   9999       0            7          67\n",
      "\n",
      "\n",
      "Top 3 Prices for Model: 3\n",
      "     Model  Price  Colour  Rear Camera  Processor_\n",
      "308      3  43999      28            9          61\n",
      "309      3  43999      28            9          61\n",
      "327      3  43999      28            9          61\n",
      "\n",
      "\n",
      "Top 3 Prices for Model: 56\n",
      "     Model  Price  Colour  Rear Camera  Processor_\n",
      "414     56   8990      28            3          18\n",
      "311     56   8069      28            3          18\n",
      "310     56   7993      28            3          18\n",
      "\n",
      "\n",
      "Top 3 Prices for Model: 48\n",
      "     Model  Price  Colour  Rear Camera  Processor_\n",
      "402     48  20999      15            7          57\n",
      "425     48  20999       6            7          57\n",
      "438     48  20999      30            7          57\n",
      "\n",
      "\n",
      "Top 3 Prices for Model: 28\n",
      "     Model  Price  Colour  Rear Camera  Processor_\n",
      "323     28   8999      28            3          17\n",
      "479     28   8999      50            3          14\n",
      "480     28   8999      50            3          14\n",
      "\n",
      "\n",
      "Top 3 Prices for Model: 57\n",
      "     Model  Price  Colour  Rear Camera  Processor_\n",
      "332     57   9290      58            7          17\n",
      "344     57   9290      58            7          17\n",
      "347     57   8649      28            7          17\n",
      "\n",
      "\n",
      "Top 3 Prices for Model: 15\n",
      "     Model  Price  Colour  Rear Camera  Processor_\n",
      "335     15  17999      28            7          24\n",
      "337     15  17999      28            7          24\n",
      "348     15  17999      28            7          24\n",
      "\n",
      "\n",
      "Top 3 Prices for Model: 58\n",
      "     Model  Price  Colour  Rear Camera  Processor_\n",
      "521     58   8999      28            3          33\n",
      "353     58   8288      28            3          14\n",
      "483     58   8288      28            3          14\n",
      "\n",
      "\n",
      "Top 3 Prices for Model: 50\n",
      "     Model  Price  Colour  Rear Camera  Processor_\n",
      "356     50  21999      29            7          47\n",
      "366     50  21999      28            7          47\n",
      "401     50  21999      28            7          47\n",
      "\n",
      "\n",
      "Top 3 Prices for Model: 59\n",
      "     Model  Price  Colour  Rear Camera  Processor_\n",
      "362     59   5999      28           10          62\n",
      "368     59   5999      28           10          62\n",
      "367     59   5990      28           10          62\n",
      "\n",
      "\n",
      "Top 3 Prices for Model: 82\n",
      "     Model  Price  Colour  Rear Camera  Processor_\n",
      "473     82  31989      28            9          32\n",
      "454     82  29990      28            9          32\n",
      "364     82  27540      28            9          32\n",
      "\n",
      "\n",
      "Top 3 Prices for Model: 11\n",
      "     Model  Price  Colour  Rear Camera  Processor_\n",
      "372     11   6999      28           10          33\n",
      "373     11   6999      28           10          33\n",
      "374     11   6999      28           10          33\n",
      "\n",
      "\n",
      "Top 3 Prices for Model: 64\n",
      "     Model  Price  Colour  Rear Camera  Processor_\n",
      "376     64  23999      38            1          25\n",
      "387     64  23999      14            1          25\n",
      "388     64  23999      25            1          25\n",
      "\n",
      "\n",
      "Top 3 Prices for Model: 51\n",
      "     Model  Price  Colour  Rear Camera  Processor_\n",
      "380     51  32999       3            6           0\n",
      "441     51  32999       4            6           0\n",
      "382     51  30999      28            6           0\n",
      "\n",
      "\n",
      "Top 3 Prices for Model: 68\n",
      "     Model  Price  Colour  Rear Camera  Processor_\n",
      "423     68   8499      55           10          63\n",
      "424     68   8499      55           10          63\n",
      "399     68   6999      28           10          63\n",
      "\n",
      "\n",
      "Top 3 Prices for Model: 88\n",
      "     Model  Price  Colour  Rear Camera  Processor_\n",
      "405     88  19999      28            7          27\n",
      "428     88  19999      43            7          27\n",
      "429     88  17999      28            7          27\n",
      "\n",
      "\n",
      "Top 3 Prices for Model: 2\n",
      "     Model  Price  Colour  Rear Camera  Processor_\n",
      "416      2  55999      28            7           9\n",
      "417      2  55999      28            7           9\n",
      "426      2  55999      28            7           9\n",
      "\n",
      "\n",
      "Top 3 Prices for Model: 49\n",
      "     Model  Price  Colour  Rear Camera  Processor_\n",
      "427     49  17499       6            7          43\n",
      "486     49  17499      28            7          43\n",
      "528     49  17499       7            7          43\n",
      "\n",
      "\n",
      "Top 3 Prices for Model: 86\n",
      "     Model  Price  Colour  Rear Camera  Processor_\n",
      "434     86  23999      44            9          31\n",
      "437     86  23999      44            9          31\n",
      "526     86  23999      28            9          31\n",
      "\n",
      "\n",
      "Top 3 Prices for Model: 83\n",
      "     Model  Price  Colour  Rear Camera  Processor_\n",
      "512     83  29418      28            9          31\n",
      "440     83  27999      28            9          31\n",
      "447     83  27999      28            9          31\n",
      "\n",
      "\n",
      "Top 3 Prices for Model: 43\n",
      "     Model  Price  Colour  Rear Camera  Processor_\n",
      "446     43  19397      28            7          29\n",
      "510     43  18999      28            7          29\n",
      "509     43  18990      28            7          29\n",
      "\n",
      "\n",
      "Top 3 Prices for Model: 52\n",
      "     Model  Price  Colour  Rear Camera  Processor_\n",
      "465     52  40999       3            7           6\n",
      "515     52  40999       4            7           6\n",
      "539     52  38999      28            7           6\n",
      "\n",
      "\n",
      "Top 3 Prices for Model: 79\n",
      "     Model  Price  Colour  Rear Camera  Processor_\n",
      "475     79  24999      28            9          52\n",
      "482     79  24999      28            9          51\n",
      "476     79  23999      28            9          52\n",
      "\n",
      "\n",
      "Top 3 Prices for Model: 8\n",
      "     Model  Price  Colour  Rear Camera  Processor_\n",
      "495      8  12999      28            1          69\n",
      "485      8   9999      28            7          69\n",
      "505      8   9999      28            7          69\n",
      "\n",
      "\n",
      "Top 3 Prices for Model: 0\n",
      "     Model  Price  Colour  Rear Camera  Processor_\n",
      "493      0  80999      28            2          14\n",
      "520      0  80999      28            2          14\n",
      "525      0  80999      28            2          70\n",
      "\n",
      "\n",
      "Top 3 Prices for Model: 84\n",
      "     Model  Price  Colour  Rear Camera  Processor_\n",
      "496     84  35999      28            9          26\n",
      "513     84  33367      28            9          26\n",
      "494     84  30874      28            9          26\n",
      "\n",
      "\n"
     ]
    }
   ],
   "source": [
    "# Under Each Model Find the top 3 prices and fetch thier features\n",
    "\n",
    "def get_top_3_prices_by_model(df):\n",
    "  \"\"\"\n",
    "  Finds the top 3 highest prices for each model and returns their features.\n",
    "  \"\"\"\n",
    "  top_3_prices_per_model = {}\n",
    "  for model in df['Model'].unique():\n",
    "    model_data = df[df['Model'] == model]\n",
    "    top_3 = model_data.nlargest(3, 'Price')\n",
    "    if not top_3.empty:\n",
    "      top_3_prices_per_model[model] = top_3\n",
    "  return top_3_prices_per_model\n",
    "\n",
    "\n",
    "top_3_prices_dict = get_top_3_prices_by_model(df_final)\n",
    "\n",
    "# Print the results (you can customize the output as needed)\n",
    "for model, top_3_df in top_3_prices_dict.items():\n",
    "  print(f\"Top 3 Prices for Model: {model}\")\n",
    "  print(top_3_df[['Model', 'Price', 'Colour', 'Rear Camera', 'Processor_']])  # Include relevant features\n",
    "  print(\"\\n\")\n"
   ]
  },
  {
   "cell_type": "code",
   "execution_count": 54,
   "metadata": {
    "colab": {
     "base_uri": "https://localhost:8080/"
    },
    "id": "OqRCX7LipcNg",
    "outputId": "7e97e89f-64b2-4695-9a3f-2dc0d49b3f60"
   },
   "outputs": [
    {
     "name": "stdout",
     "output_type": "stream",
     "text": [
      "Model            APPLE iPhone 14 Plus\n",
      "Colour                         Lesser\n",
      "Memory                            128\n",
      "RAM                                 6\n",
      "Battery_                         4323\n",
      "Rear Camera                      12MP\n",
      "Front Camera                     12MP\n",
      "AI Lens                             0\n",
      "Mobile Height                   17.02\n",
      "Processor_                     Lesser\n",
      "Price                           80999\n",
      "Name: 493, dtype: object\n"
     ]
    }
   ],
   "source": [
    "#details of 493 row\n",
    "\n",
    "row_details = df_final.loc[493]  # Note: DataFrame index starts from 0, so 493rd row is at index 492\n",
    "print(row_details)\n"
   ]
  },
  {
   "cell_type": "code",
   "execution_count": 43,
   "metadata": {
    "colab": {
     "base_uri": "https://localhost:8080/",
     "height": 490
    },
    "id": "bwuEPyT959JV",
    "outputId": "1ca16707-3e72-413a-e319-a13814afdd49"
   },
   "outputs": [
    {
     "data": {
      "text/plain": [
       "Model                  Battery_  Processor_                   Rear Camera\n",
       "APPLE iPhone 14 Plus   4323      6 Core                       12MP           80999.0\n",
       "                                 IOS                          12MP           80999.0\n",
       "                                 ios                          12MP           80999.0\n",
       "SAMSUNG Galaxy S23 5G  3900      Qualcomm Snapdragon 8 Gen 2  50MP           79999.0\n",
       "Google Pixel 7         4270      Google Tensor G2             50MP           55999.0\n",
       "                                                                              ...   \n",
       "micromax               2550      SC6531E                      0MP             1375.0\n",
       "micromax 2             800       SC6531E                      0MP             1299.0\n",
       "micromax 1             800       SC6531E                      0MP             1299.0\n",
       "micromax               1500      Mediatek MT6261D             0MP             1199.0\n",
       "redmi min              1000      Spreadtrum                   0MP              920.0\n",
       "Name: Price, Length: 207, dtype: float64"
      ]
     },
     "execution_count": 43,
     "metadata": {},
     "output_type": "execute_result"
    }
   ],
   "source": [
    "df.groupby(['Model','Battery_','Processor_','Rear Camera'])['Price'].mean().sort_values(ascending=False)"
   ]
  },
  {
   "cell_type": "code",
   "execution_count": 44,
   "metadata": {},
   "outputs": [
    {
     "data": {
      "text/plain": [
       "Model                  Battery_  RAM  Mobile Height\n",
       "APPLE iPhone 14 Plus   4323      3    17.02            80999.0\n",
       "                                 4    17.02            80999.0\n",
       "                                 6    17.02            80999.0\n",
       "SAMSUNG Galaxy S23 5G  3900      8    15.49            79999.0\n",
       "Google Pixel 7         4270      8    16.00            55999.0\n",
       "                                                        ...   \n",
       "micromax               2550      3    4.50              1375.0\n",
       "micromax 2             800       8    4.50              1299.0\n",
       "micromax 1             800       8    4.50              1299.0\n",
       "micromax               1500      4    6.10              1199.0\n",
       "redmi min              1000      4    4.57               920.0\n",
       "Name: Price, Length: 266, dtype: float64"
      ]
     },
     "execution_count": 44,
     "metadata": {},
     "output_type": "execute_result"
    }
   ],
   "source": [
    "df.groupby(['Model','Battery_','RAM','Mobile Height'])['Price'].mean().sort_values(ascending=False)"
   ]
  },
  {
   "cell_type": "code",
   "execution_count": 46,
   "metadata": {},
   "outputs": [
    {
     "data": {
      "text/plain": [
       "Model                  Colour         Rear Camera\n",
       "APPLE iPhone 14 Plus   Midnight       12MP           80999.0\n",
       "                       Purple         12MP           80999.0\n",
       "                       Starlight      12MP           80999.0\n",
       "SAMSUNG Galaxy S23 5G  Cream          50MP           79999.0\n",
       "Google Pixel 7         Lemongrass     50MP           55999.0\n",
       "                                                      ...   \n",
       "micromax               Light Silver   0MP             1375.0\n",
       "micromax 1             Eclipse Black  0MP             1299.0\n",
       "micromax 2             Nebula Green   0MP             1299.0\n",
       "micromax               Lake Blue      0MP             1199.0\n",
       "redmi min              M3)            0MP              920.0\n",
       "Name: Price, Length: 390, dtype: float64"
      ]
     },
     "execution_count": 46,
     "metadata": {},
     "output_type": "execute_result"
    }
   ],
   "source": [
    "df.groupby(['Model','Colour','Rear Camera'])['Price'].mean().sort_values(ascending=False)"
   ]
  },
  {
   "cell_type": "code",
   "execution_count": 56,
   "metadata": {
    "colab": {
     "base_uri": "https://localhost:8080/"
    },
    "id": "9UCBKeGwDsYO",
    "outputId": "afbfa572-fd17-4fcc-98e1-536b253f3a3f"
   },
   "outputs": [
    {
     "name": "stdout",
     "output_type": "stream",
     "text": [
      "Apple Model with Highest Price:\n",
      "     Unnamed: 0                 Model     Colour  Memory  RAM  Battery_  \\\n",
      "493         576  APPLE iPhone 14 Plus   Midnight     128    6      4323   \n",
      "520         614  APPLE iPhone 14 Plus     Purple     128    3      4323   \n",
      "525         621  APPLE iPhone 14 Plus  Starlight     128    4      4323   \n",
      "\n",
      "    Rear Camera Front Camera  AI Lens  Mobile Height Processor_  Price  \n",
      "493        12MP         12MP        0          17.02        IOS  80999  \n",
      "520        12MP         12MP        0          17.02     6 Core  80999  \n",
      "525        12MP         12MP        0          17.02        ios  80999  \n",
      "\n",
      "\n",
      "Samsung Model with Highest Price:\n",
      "     Unnamed: 0                  Model Colour  Memory  RAM  Battery_  \\\n",
      "536         637  SAMSUNG Galaxy S23 5G  Cream     256    8      3900   \n",
      "\n",
      "    Rear Camera Front Camera  AI Lens  Mobile Height  \\\n",
      "536        50MP         12MP        0          15.49   \n",
      "\n",
      "                      Processor_  Price  \n",
      "536  Qualcomm Snapdragon 8 Gen 2  79999  \n"
     ]
    }
   ],
   "source": [
    "# find the model details with apple and samsung model name and highest price for both the models\n",
    "\n",
    "# Find the highest price for Apple models\n",
    "apple_df = df[df['Model'].str.contains('Apple', case=False, na=False)]\n",
    "highest_apple_price = apple_df['Price'].max()\n",
    "apple_highest_price_details = apple_df[apple_df['Price'] == highest_apple_price]\n",
    "\n",
    "# Find the highest price for Samsung models\n",
    "samsung_df = df[df['Model'].str.contains('Samsung', case=False, na=False)]\n",
    "highest_samsung_price = samsung_df['Price'].max()\n",
    "samsung_highest_price_details = samsung_df[samsung_df['Price'] == highest_samsung_price]\n",
    "\n",
    "\n",
    "print(\"Apple Model with Highest Price:\")\n",
    "print(apple_highest_price_details)\n",
    "print(\"\\n\")\n",
    "\n",
    "print(\"Samsung Model with Highest Price:\")\n",
    "print(samsung_highest_price_details)\n",
    "\n"
   ]
  },
  {
   "cell_type": "code",
   "execution_count": 64,
   "metadata": {
    "colab": {
     "base_uri": "https://localhost:8080/",
     "height": 490
    },
    "id": "anFild4iCBOb",
    "outputId": "c55276f2-2ea9-4231-9844-cae7c9c131cb"
   },
   "outputs": [
    {
     "data": {
      "text/plain": [
       "Memory  RAM  Model                \n",
       "128     3    APPLE iPhone 14 Plus     80999.0\n",
       "        4    APPLE iPhone 14 Plus     80999.0\n",
       "        6    APPLE iPhone 14 Plus     80999.0\n",
       "256     8    SAMSUNG Galaxy S23 5G    79999.0\n",
       "128     8    Google Pixel 7           55999.0\n",
       "                                       ...   \n",
       "32      3    micromax                  1375.0\n",
       "256     8    micromax 1                1299.0\n",
       "             micromax 2                1299.0\n",
       "64      4    micromax                  1199.0\n",
       "16      4    redmi min                  920.0\n",
       "Name: Price, Length: 283, dtype: float64"
      ]
     },
     "execution_count": 64,
     "metadata": {},
     "output_type": "execute_result"
    }
   ],
   "source": [
    "df.groupby(['Memory','RAM','Model'])['Price'].mean().sort_values(ascending=False)"
   ]
  },
  {
   "cell_type": "code",
   "execution_count": 48,
   "metadata": {
    "colab": {
     "base_uri": "https://localhost:8080/",
     "height": 760
    },
    "id": "MHBnvB_ov1-4",
    "outputId": "dbeef36d-203c-46ac-ec1f-c7534df1e697"
   },
   "outputs": [
    {
     "data": {
      "image/png": "[encoded data removed]",
      "text/plain": [
       "<Figure size 1080x432 with 1 Axes>"
      ]
     },
     "metadata": {
      "needs_background": "light"
     },
     "output_type": "display_data"
    }
   ],
   "source": [
    "# extract apple and samsung model names and plot bar plot on apple ,samsung model vs their price\n",
    "\n",
    "\n",
    "apple_models = df[df['Model'].str.contains('Apple', case=False, na=False)]\n",
    "samsung_models = df[df['Model'].str.contains('Samsung', case=False, na=False)]\n",
    "\n",
    "\n",
    "\n",
    "\n",
    "apple_samsung_df = pd.concat([apple_models, samsung_models])\n",
    "\n",
    "# Group by model name and calculate the mean price for each model\n",
    "model_price_df = apple_samsung_df.groupby('Model')['Price'].mean().reset_index()\n",
    "\n",
    "# Plot a bar chart of Apple and Samsung model names vs their mean price\n",
    "plt.figure(figsize=(15, 6))\n",
    "sns.barplot(x='Model', y='Price', data=model_price_df,palette='inferno')\n",
    "plt.title('Apple and Samsung Model Prices')\n",
    "plt.xlabel('Model Name')\n",
    "plt.ylabel('Mean Price')\n",
    "plt.xticks(rotation=90)\n",
    "plt.show()\n"
   ]
  },
  {
   "cell_type": "code",
   "execution_count": 54,
   "metadata": {},
   "outputs": [
    {
     "data": {
      "text/plain": [
       "Text(0.5, 1.0, 'Cell Phone Height Distribution')"
      ]
     },
     "execution_count": 54,
     "metadata": {},
     "output_type": "execute_result"
    },
    {
     "data": {
      "image/png": "[encoded data removed]",
      "text/plain": [
       "<Figure size 1080x720 with 1 Axes>"
      ]
     },
     "metadata": {},
     "output_type": "display_data"
    }
   ],
   "source": [
    "plt.figure(figsize=(15,10))\n",
    "sns.countplot(x='Mobile Height',data=df, palette='inferno')\n",
    "sns.set_style('dark')\n",
    "plt.xlabel('Mobile Height')\n",
    "plt.ylabel('Count of Height')\n",
    "plt.title('Cell Phone Height Distribution')\n",
    "#Maximum Cell phones with 4 GB memory, followed by 8 GB Memory"
   ]
  },
  {
   "cell_type": "code",
   "execution_count": 55,
   "metadata": {},
   "outputs": [
    {
     "data": {
      "text/plain": [
       "Text(0.5, 1.0, 'Mobile Height vs Price')"
      ]
     },
     "execution_count": 55,
     "metadata": {},
     "output_type": "execute_result"
    },
    {
     "data": {
      "image/png": "[encoded data removed]",
      "text/plain": [
       "<Figure size 1152x720 with 1 Axes>"
      ]
     },
     "metadata": {},
     "output_type": "display_data"
    }
   ],
   "source": [
    "plt.figure(figsize=(16,10))\n",
    "sns.barplot(x=df['Mobile Height'],y=df['Price'],palette='plasma')\n",
    "sns.set_style('darkgrid')\n",
    "plt.xlabel('Mobile Height')\n",
    "plt.ylabel('Price')\n",
    "plt.title('Mobile Height vs Price')"
   ]
  },
  {
   "cell_type": "code",
   "execution_count": 56,
   "metadata": {
    "colab": {
     "base_uri": "https://localhost:8080/",
     "height": 889
    },
    "id": "FyPK5S4n--mW",
    "outputId": "98b245cd-56b4-41f6-aa2b-aeb4d100cb79"
   },
   "outputs": [
    {
     "data": {
      "text/plain": [
       "Text(0.5, 1.0, 'RAM Distribution')"
      ]
     },
     "execution_count": 56,
     "metadata": {},
     "output_type": "execute_result"
    },
    {
     "data": {
      "image/png": "[encoded data removed]",
      "text/plain": [
       "<Figure size 720x720 with 1 Axes>"
      ]
     },
     "metadata": {},
     "output_type": "display_data"
    }
   ],
   "source": [
    "plt.figure(figsize=(10,10))\n",
    "sns.countplot(x='RAM',data=df, palette='viridis')\n",
    "sns.set_style('dark')\n",
    "plt.xlabel('RAM')\n",
    "plt.ylabel('Count of RAM')\n",
    "plt.title('RAM Distribution')\n",
    "#Maximum Cell phones with 4 GB memory, followed by 8 GB Memory"
   ]
  },
  {
   "cell_type": "code",
   "execution_count": 57,
   "metadata": {
    "colab": {
     "base_uri": "https://localhost:8080/",
     "height": 889
    },
    "id": "Q7EHYlG-m8BF",
    "outputId": "4ade4fe4-145b-4db4-ce4c-da680c6a4325"
   },
   "outputs": [
    {
     "data": {
      "text/plain": [
       "Text(0.5, 1.0, 'RAM vs Price')"
      ]
     },
     "execution_count": 57,
     "metadata": {},
     "output_type": "execute_result"
    },
    {
     "data": {
      "image/png": "[encoded data removed]",
      "text/plain": [
       "<Figure size 864x720 with 1 Axes>"
      ]
     },
     "metadata": {},
     "output_type": "display_data"
    }
   ],
   "source": [
    "plt.figure(figsize=(12,10))\n",
    "sns.barplot(x=df['RAM'],y=df['Price'],palette='viridis')\n",
    "sns.set_style('darkgrid')\n",
    "plt.xlabel('RAM')\n",
    "plt.ylabel('Price')\n",
    "plt.title('RAM vs Price')"
   ]
  },
  {
   "cell_type": "code",
   "execution_count": 58,
   "metadata": {
    "colab": {
     "base_uri": "https://localhost:8080/",
     "height": 889
    },
    "id": "hAe_j9p9_iU3",
    "outputId": "ab94c763-755d-4c10-885e-ea779013ddfc"
   },
   "outputs": [
    {
     "data": {
      "text/plain": [
       "Text(0.5, 1.0, 'Memory Distribution')"
      ]
     },
     "execution_count": 58,
     "metadata": {},
     "output_type": "execute_result"
    },
    {
     "data": {
      "image/png": "[encoded data removed]",
      "text/plain": [
       "<Figure size 864x720 with 1 Axes>"
      ]
     },
     "metadata": {},
     "output_type": "display_data"
    }
   ],
   "source": [
    "plt.figure(figsize=(12,10))\n",
    "sns.countplot(x=df['Memory'],palette='viridis')\n",
    "sns.set_style('darkgrid')\n",
    "plt.xlabel('Memory')\n",
    "plt.ylabel('Count of Memory')\n",
    "plt.title('Memory Distribution')\n",
    "#Maximum cell phones with 128GB memory , followed by 64GB. Very few are having 256 GB memory"
   ]
  },
  {
   "cell_type": "code",
   "execution_count": 59,
   "metadata": {
    "colab": {
     "base_uri": "https://localhost:8080/",
     "height": 889
    },
    "id": "dBqjRrELmUeI",
    "outputId": "b52c9631-f1ff-440f-d079-71e0b46d47e9"
   },
   "outputs": [
    {
     "data": {
      "text/plain": [
       "Text(0.5, 1.0, 'Memory vs Price')"
      ]
     },
     "execution_count": 59,
     "metadata": {},
     "output_type": "execute_result"
    },
    {
     "data": {
      "image/png": "[encoded data removed]",
      "text/plain": [
       "<Figure size 864x720 with 1 Axes>"
      ]
     },
     "metadata": {},
     "output_type": "display_data"
    }
   ],
   "source": [
    "plt.figure(figsize=(12,10))\n",
    "sns.barplot(x=df['Memory'],y=df['Price'],palette='plasma')\n",
    "sns.set_style('darkgrid')\n",
    "plt.xlabel('Memory')\n",
    "plt.ylabel('Price')\n",
    "plt.title('Memory vs Price')"
   ]
  },
  {
   "cell_type": "code",
   "execution_count": null,
   "metadata": {
    "id": "TpMyRSwjl7dW"
   },
   "outputs": [],
   "source": []
  },
  {
   "cell_type": "code",
   "execution_count": 60,
   "metadata": {
    "colab": {
     "base_uri": "https://localhost:8080/",
     "height": 889
    },
    "id": "O1aQJhbLARm3",
    "outputId": "0c30ab7e-c78f-4602-c2dd-a9ed164d9481"
   },
   "outputs": [
    {
     "data": {
      "text/plain": [
       "Text(0.5, 1.0, 'Front Camera Distribution')"
      ]
     },
     "execution_count": 60,
     "metadata": {},
     "output_type": "execute_result"
    },
    {
     "data": {
      "image/png": "[encoded data removed]",
      "text/plain": [
       "<Figure size 864x720 with 1 Axes>"
      ]
     },
     "metadata": {},
     "output_type": "display_data"
    }
   ],
   "source": [
    "plt.figure(figsize=(12,10))\n",
    "sns.countplot(x=df['Front Camera'],palette='magma')\n",
    "sns.set_style('darkgrid')\n",
    "plt.xlabel('Front Camera')\n",
    "plt.ylabel('Count of Front Camera')\n",
    "plt.title('Front Camera Distribution')\n",
    "#16Mega Pixel camera leading the list followed by 5 Mega Pixel"
   ]
  },
  {
   "cell_type": "code",
   "execution_count": 61,
   "metadata": {
    "colab": {
     "base_uri": "https://localhost:8080/",
     "height": 889
    },
    "id": "OHL_IPHolKQr",
    "outputId": "4a5b2ba6-f34d-4811-eadc-eab75bb4b7da"
   },
   "outputs": [
    {
     "data": {
      "text/plain": [
       "Text(0.5, 1.0, 'Front Camera vs Price')"
      ]
     },
     "execution_count": 61,
     "metadata": {},
     "output_type": "execute_result"
    },
    {
     "data": {
      "image/png": "[encoded data removed]",
      "text/plain": [
       "<Figure size 864x720 with 1 Axes>"
      ]
     },
     "metadata": {},
     "output_type": "display_data"
    }
   ],
   "source": [
    "plt.figure(figsize=(12,10))\n",
    "sns.barplot(x=df['Front Camera'],y=df['Price'],palette='inferno')\n",
    "plt.xlabel('Front Camera')\n",
    "plt.ylabel('Price')\n",
    "plt.title('Front Camera vs Price')"
   ]
  },
  {
   "cell_type": "code",
   "execution_count": 62,
   "metadata": {
    "colab": {
     "base_uri": "https://localhost:8080/",
     "height": 466
    },
    "id": "xD2sqo12BiWW",
    "outputId": "dd11df2e-db90-4909-85b5-1ff131c50cd4"
   },
   "outputs": [
    {
     "data": {
      "text/plain": [
       "<AxesSubplot:xlabel='Price'>"
      ]
     },
     "execution_count": 62,
     "metadata": {},
     "output_type": "execute_result"
    },
    {
     "data": {
      "image/png": "[encoded data removed]",
      "text/plain": [
       "<Figure size 432x288 with 1 Axes>"
      ]
     },
     "metadata": {},
     "output_type": "display_data"
    }
   ],
   "source": [
    "sns.distplot(df['Price'].dropna(),kde=False,color='darkblue',bins=15)"
   ]
  },
  {
   "cell_type": "code",
   "execution_count": 63,
   "metadata": {
    "colab": {
     "base_uri": "https://localhost:8080/",
     "height": 466
    },
    "id": "GVk8AqmYB22-",
    "outputId": "09e3d6dc-027b-4365-84e1-eda722db98a2"
   },
   "outputs": [
    {
     "data": {
      "text/plain": [
       "<AxesSubplot:xlabel='Battery_'>"
      ]
     },
     "execution_count": 63,
     "metadata": {},
     "output_type": "execute_result"
    },
    {
     "data": {
      "image/png": "[encoded data removed]",
      "text/plain": [
       "<Figure size 432x288 with 1 Axes>"
      ]
     },
     "metadata": {},
     "output_type": "display_data"
    }
   ],
   "source": [
    "sns.distplot(df['Battery_'].dropna(),kde=False,color='green',bins=10)"
   ]
  },
  {
   "cell_type": "code",
   "execution_count": 64,
   "metadata": {
    "id": "5o7bOOSlxz4c"
   },
   "outputs": [],
   "source": [
    "def find_skewness(df):\n",
    "    # Select only numeric columns\n",
    "    numeric_columns = df.select_dtypes(include=['number']).columns\n",
    "\n",
    "    # Calculate skewness for each numeric column\n",
    "    skewness = df[numeric_columns].skew()\n",
    "\n",
    "    # Print skewness for each column\n",
    "    for col, skew_value in skewness.items():\n",
    "        print(f'Skewness of {col}: {skew_value:.4f}')\n",
    "\n",
    "    return skewness\n",
    "#Find Skewness of the numeric columns"
   ]
  },
  {
   "cell_type": "code",
   "execution_count": 252,
   "metadata": {
    "colab": {
     "base_uri": "https://localhost:8080/",
     "height": 620
    },
    "id": "dBf0FelRyTRr",
    "outputId": "eb39542c-6429-4622-8e28-4fda20ec7f13"
   },
   "outputs": [
    {
     "name": "stdout",
     "output_type": "stream",
     "text": [
      "Skewness of Model: 0.4641\n",
      "Skewness of Colour: 0.2490\n",
      "Skewness of Memory: 1.0297\n",
      "Skewness of RAM: 0.0676\n",
      "Skewness of Battery_: -3.3042\n",
      "Skewness of Rear Camera: -0.7500\n",
      "Skewness of Front Camera: -0.0729\n",
      "Skewness of AI Lens: 3.6126\n",
      "Skewness of Mobile Height: 1.1718\n",
      "Skewness of Processor_: 0.1859\n",
      "Skewness of Price: 2.4256\n"
     ]
    },
    {
     "data": {
      "text/plain": [
       "Model            0.464149\n",
       "Colour           0.248955\n",
       "Memory           1.029704\n",
       "RAM              0.067617\n",
       "Battery_        -3.304250\n",
       "Rear Camera     -0.749997\n",
       "Front Camera    -0.072900\n",
       "AI Lens          3.612638\n",
       "Mobile Height    1.171778\n",
       "Processor_       0.185926\n",
       "Price            2.425579\n",
       "dtype: float64"
      ]
     },
     "execution_count": 252,
     "metadata": {},
     "output_type": "execute_result"
    }
   ],
   "source": [
    "find_skewness(df_final)"
   ]
  },
  {
   "cell_type": "code",
   "execution_count": 65,
   "metadata": {},
   "outputs": [
    {
     "data": {
      "text/plain": [
       "Index(['Model', 'Colour', 'Memory', 'RAM', 'Battery_', 'Rear Camera',\n",
       "       'Front Camera', 'AI Lens', 'Mobile Height', 'Processor_', 'Price'],\n",
       "      dtype='object')"
      ]
     },
     "execution_count": 65,
     "metadata": {},
     "output_type": "execute_result"
    }
   ],
   "source": [
    "df_final.columns"
   ]
  },
  {
   "cell_type": "code",
   "execution_count": 66,
   "metadata": {
    "colab": {
     "base_uri": "https://localhost:8080/",
     "height": 1000
    },
    "id": "M_oEcljLvPgc",
    "outputId": "5460e5fc-856f-49e3-a2c8-499d3d3be8a0"
   },
   "outputs": [
    {
     "data": {
      "image/png": "[encoded data removed]",
      "text/plain": [
       "<Figure size 1008x432 with 1 Axes>"
      ]
     },
     "metadata": {},
     "output_type": "display_data"
    },
    {
     "data": {
      "image/png": "[encoded data removed]",
      "text/plain": [
       "<Figure size 1008x432 with 1 Axes>"
      ]
     },
     "metadata": {},
     "output_type": "display_data"
    },
    {
     "data": {
      "image/png": "[encoded data removed]",
      "text/plain": [
       "<Figure size 1008x432 with 1 Axes>"
      ]
     },
     "metadata": {},
     "output_type": "display_data"
    },
    {
     "data": {
      "image/png": "[encoded data removed]",
      "text/plain": [
       "<Figure size 1008x432 with 1 Axes>"
      ]
     },
     "metadata": {},
     "output_type": "display_data"
    },
    {
     "data": {
      "image/png": "[encoded data removed]",
      "text/plain": [
       "<Figure size 1008x432 with 1 Axes>"
      ]
     },
     "metadata": {},
     "output_type": "display_data"
    },
    {
     "data": {
      "image/png": "[encoded data removed]",
      "text/plain": [
       "<Figure size 1008x432 with 1 Axes>"
      ]
     },
     "metadata": {},
     "output_type": "display_data"
    }
   ],
   "source": [
    "    for col in numerical_col:\n",
    "        plt.figure(figsize=(14, 6))\n",
    "\n",
    "        # Box plot\n",
    "        plt.subplot(1, 2, 1)\n",
    "        sns.boxplot(x=df_final[col], color='skyblue')\n",
    "        plt.title(f'Box Plot of {col}')\n",
    "\n"
   ]
  },
  {
   "cell_type": "markdown",
   "metadata": {},
   "source": [
    "**Train Test Data Split and Model Building**"
   ]
  },
  {
   "cell_type": "code",
   "execution_count": 67,
   "metadata": {
    "id": "uaCahGWbporb"
   },
   "outputs": [],
   "source": [
    "X_train,X_test,y_train,y_test=train_test_split(X,y,test_size=0.2,random_state=42)\n",
    "#Train Test Data Split"
   ]
  },
  {
   "cell_type": "code",
   "execution_count": 68,
   "metadata": {
    "id": "_F-8RjOsp5Ac"
   },
   "outputs": [],
   "source": [
    "lr=LinearRegression()\n",
    "#Linear Regression Model"
   ]
  },
  {
   "cell_type": "code",
   "execution_count": 69,
   "metadata": {
    "colab": {
     "base_uri": "https://localhost:8080/",
     "height": 80
    },
    "id": "oXTvHwgPp5Lg",
    "outputId": "134a3a9e-0e16-4b2f-865b-e983085e93c7"
   },
   "outputs": [
    {
     "data": {
      "text/plain": [
       "LinearRegression()"
      ]
     },
     "execution_count": 69,
     "metadata": {},
     "output_type": "execute_result"
    }
   ],
   "source": [
    "lr.fit(X_train,y_train)"
   ]
  },
  {
   "cell_type": "code",
   "execution_count": 70,
   "metadata": {
    "id": "Rq9akk4lp5Re"
   },
   "outputs": [],
   "source": [
    "y_predict=lr.predict(X_test)"
   ]
  },
  {
   "cell_type": "code",
   "execution_count": 71,
   "metadata": {
    "colab": {
     "base_uri": "https://localhost:8080/"
    },
    "id": "1ce7Uc6eqLqF",
    "outputId": "877902fe-99c1-41bb-97b3-20e4f6fab83a"
   },
   "outputs": [
    {
     "name": "stdout",
     "output_type": "stream",
     "text": [
      "0.3145352592040326\n",
      "4512.470979562525\n",
      "94476093.10322894\n"
     ]
    }
   ],
   "source": [
    "print(r2_score(y_test,y_predict))\n",
    "print(mean_absolute_error(y_test,y_predict))\n",
    "print(mean_squared_error(y_test,y_predict))"
   ]
  },
  {
   "cell_type": "code",
   "execution_count": 72,
   "metadata": {
    "colab": {
     "base_uri": "https://localhost:8080/"
    },
    "id": "OQI6m4EdzrKQ",
    "outputId": "66da180d-a028-4c05-f41e-a744a2a018c2"
   },
   "outputs": [
    {
     "name": "stdout",
     "output_type": "stream",
     "text": [
      "Training Accuracy 0.4404197037688826\n",
      "Testing Score 0.3145352592040326\n"
     ]
    }
   ],
   "source": [
    "#Training Score\n",
    "print(\"Training Accuracy\",lr.score(X_train,y_train))\n",
    "#Testing Score\n",
    "print(\"Testing Score\",lr.score(X_test,y_test))"
   ]
  },
  {
   "cell_type": "markdown",
   "metadata": {
    "id": "0PK83rX12AFe"
   },
   "source": []
  },
  {
   "cell_type": "code",
   "execution_count": 73,
   "metadata": {
    "id": "NC0_16GEqLsG"
   },
   "outputs": [],
   "source": [
    "from sklearn.tree import DecisionTreeRegressor"
   ]
  },
  {
   "cell_type": "code",
   "execution_count": 74,
   "metadata": {
    "id": "eHTOFeszqLus"
   },
   "outputs": [],
   "source": [
    "dt=DecisionTreeRegressor()"
   ]
  },
  {
   "cell_type": "code",
   "execution_count": 75,
   "metadata": {
    "colab": {
     "base_uri": "https://localhost:8080/",
     "height": 80
    },
    "id": "b-GU0TWlqLw0",
    "outputId": "dd672493-6d64-4b7e-efc8-09c7df5b032f"
   },
   "outputs": [
    {
     "data": {
      "text/plain": [
       "DecisionTreeRegressor()"
      ]
     },
     "execution_count": 75,
     "metadata": {},
     "output_type": "execute_result"
    }
   ],
   "source": [
    "dt.fit(X_train,y_train)"
   ]
  },
  {
   "cell_type": "code",
   "execution_count": 76,
   "metadata": {
    "id": "T1BKMysgqLzT"
   },
   "outputs": [],
   "source": [
    "y_predict=dt.predict(X_test)"
   ]
  },
  {
   "cell_type": "code",
   "execution_count": 77,
   "metadata": {
    "colab": {
     "base_uri": "https://localhost:8080/"
    },
    "id": "mHwUiCLYsINJ",
    "outputId": "fe903cc7-efad-47b3-ac75-3db3ec040d87"
   },
   "outputs": [
    {
     "name": "stdout",
     "output_type": "stream",
     "text": [
      "0.6964597101218893\n",
      "1401.8165137614678\n",
      "41836288.550458714\n"
     ]
    }
   ],
   "source": [
    "print(r2_score(y_test,y_predict))\n",
    "print(mean_absolute_error(y_test,y_predict))\n",
    "print(mean_squared_error(y_test,y_predict))"
   ]
  },
  {
   "cell_type": "code",
   "execution_count": 78,
   "metadata": {
    "colab": {
     "base_uri": "https://localhost:8080/"
    },
    "id": "nPmRpwmg2SWL",
    "outputId": "461f01b2-2a66-4952-aeb7-4cb21057666f"
   },
   "outputs": [
    {
     "name": "stdout",
     "output_type": "stream",
     "text": [
      "Training Accuracy 0.9991704922816174\n",
      "Testing Score 0.6964597101218893\n"
     ]
    }
   ],
   "source": [
    "#Training Score\n",
    "print(\"Training Accuracy\",dt.score(X_train,y_train))\n",
    "#Testing Score\n",
    "print(\"Testing Score\",dt.score(X_test,y_test))"
   ]
  },
  {
   "cell_type": "code",
   "execution_count": 79,
   "metadata": {
    "id": "P4r5oA6jsIRp"
   },
   "outputs": [],
   "source": [
    "from sklearn.svm import SVR\n",
    "#Support Vector Regressor"
   ]
  },
  {
   "cell_type": "code",
   "execution_count": 80,
   "metadata": {
    "colab": {
     "base_uri": "https://localhost:8080/",
     "height": 80
    },
    "id": "yxiq4QahsIVI",
    "outputId": "336e1de0-1fd9-4816-cfae-46dd75c7ebea"
   },
   "outputs": [
    {
     "data": {
      "text/plain": [
       "SVR()"
      ]
     },
     "execution_count": 80,
     "metadata": {},
     "output_type": "execute_result"
    }
   ],
   "source": [
    "sv=SVR()\n",
    "sv.fit(X_train,y_train)"
   ]
  },
  {
   "cell_type": "code",
   "execution_count": 81,
   "metadata": {
    "id": "ke5-h1gEsIa_"
   },
   "outputs": [],
   "source": [
    "y_predict=sv.predict(X_test)"
   ]
  },
  {
   "cell_type": "code",
   "execution_count": 82,
   "metadata": {
    "colab": {
     "base_uri": "https://localhost:8080/"
    },
    "id": "sFCzseZ-sIe0",
    "outputId": "f1713e5d-f5e9-4dde-9f2e-15347ced0511"
   },
   "outputs": [
    {
     "name": "stdout",
     "output_type": "stream",
     "text": [
      "-0.019440095212552633\n",
      "6986.089000418016\n",
      "140507179.45991877\n"
     ]
    }
   ],
   "source": [
    "print(r2_score(y_test,y_predict))\n",
    "print(mean_absolute_error(y_test,y_predict))\n",
    "print(mean_squared_error(y_test,y_predict))"
   ]
  },
  {
   "cell_type": "code",
   "execution_count": 83,
   "metadata": {
    "colab": {
     "base_uri": "https://localhost:8080/"
    },
    "id": "-RgzYbLj2oEb",
    "outputId": "fafbd049-faa2-4752-a939-1262fdd47d6e"
   },
   "outputs": [
    {
     "name": "stdout",
     "output_type": "stream",
     "text": [
      "Training Accuracy -0.05096519980663161\n",
      "Testing Score -0.019440095212552633\n"
     ]
    }
   ],
   "source": [
    "#Training Score\n",
    "print(\"Training Accuracy\",sv.score(X_train,y_train))\n",
    "#Testing Score\n",
    "print(\"Testing Score\",sv.score(X_test,y_test))"
   ]
  },
  {
   "cell_type": "code",
   "execution_count": 84,
   "metadata": {
    "id": "NQS86v3kpTJr"
   },
   "outputs": [],
   "source": [
    "from sklearn.linear_model import LogisticRegression"
   ]
  },
  {
   "cell_type": "code",
   "execution_count": 85,
   "metadata": {
    "id": "8mv-qjW_tHU7"
   },
   "outputs": [],
   "source": [
    "lor=LogisticRegression()"
   ]
  },
  {
   "cell_type": "code",
   "execution_count": 86,
   "metadata": {
    "colab": {
     "base_uri": "https://localhost:8080/",
     "height": 80
    },
    "id": "sDcuQxg0tWmN",
    "outputId": "c8a9dfaf-e854-48c5-feb9-0ccc72de9a7d"
   },
   "outputs": [
    {
     "data": {
      "text/plain": [
       "LogisticRegression()"
      ]
     },
     "execution_count": 86,
     "metadata": {},
     "output_type": "execute_result"
    }
   ],
   "source": [
    "lor.fit(X_train,y_train)"
   ]
  },
  {
   "cell_type": "code",
   "execution_count": 87,
   "metadata": {
    "id": "S7FHyTiitHW0"
   },
   "outputs": [],
   "source": [
    "y_predict=lor.predict(X_test)"
   ]
  },
  {
   "cell_type": "code",
   "execution_count": 88,
   "metadata": {
    "colab": {
     "base_uri": "https://localhost:8080/"
    },
    "id": "jubqXh-BtHZb",
    "outputId": "b6f30983-7281-435c-eae3-3cb4c5ca77f3"
   },
   "outputs": [
    {
     "name": "stdout",
     "output_type": "stream",
     "text": [
      "0.32244488861293064\n",
      "4727.798165137615\n",
      "93385926.33027522\n"
     ]
    }
   ],
   "source": [
    "print(r2_score(y_test,y_predict))\n",
    "print(mean_absolute_error(y_test,y_predict))\n",
    "print(mean_squared_error(y_test,y_predict))"
   ]
  },
  {
   "cell_type": "code",
   "execution_count": 89,
   "metadata": {
    "colab": {
     "base_uri": "https://localhost:8080/"
    },
    "id": "pF_CWXdP24sn",
    "outputId": "db4ba56f-f496-4f0a-c29c-2dbf1e05918b"
   },
   "outputs": [
    {
     "name": "stdout",
     "output_type": "stream",
     "text": [
      "Training Accuracy 0.13657407407407407\n",
      "Testing Score 0.12844036697247707\n"
     ]
    }
   ],
   "source": [
    "#Training Score\n",
    "print(\"Training Accuracy\",lor.score(X_train,y_train))\n",
    "#Testing Score\n",
    "print(\"Testing Score\",lor.score(X_test,y_test))"
   ]
  },
  {
   "cell_type": "code",
   "execution_count": 90,
   "metadata": {
    "colab": {
     "base_uri": "https://localhost:8080/",
     "height": 424
    },
    "id": "hRSeuGVH9Am7",
    "outputId": "7811947b-3295-47eb-cccd-696fc5b4af69"
   },
   "outputs": [
    {
     "data": {
      "text/html": [
       "<div>\n",
       "<style scoped>\n",
       "    .dataframe tbody tr th:only-of-type {\n",
       "        vertical-align: middle;\n",
       "    }\n",
       "\n",
       "    .dataframe tbody tr th {\n",
       "        vertical-align: top;\n",
       "    }\n",
       "\n",
       "    .dataframe thead th {\n",
       "        text-align: right;\n",
       "    }\n",
       "</style>\n",
       "<table border=\"1\" class=\"dataframe\">\n",
       "  <thead>\n",
       "    <tr style=\"text-align: right;\">\n",
       "      <th></th>\n",
       "      <th>Price</th>\n",
       "    </tr>\n",
       "  </thead>\n",
       "  <tbody>\n",
       "    <tr>\n",
       "      <th>229</th>\n",
       "      <td>8499</td>\n",
       "    </tr>\n",
       "    <tr>\n",
       "      <th>73</th>\n",
       "      <td>6299</td>\n",
       "    </tr>\n",
       "    <tr>\n",
       "      <th>352</th>\n",
       "      <td>19499</td>\n",
       "    </tr>\n",
       "    <tr>\n",
       "      <th>86</th>\n",
       "      <td>10999</td>\n",
       "    </tr>\n",
       "    <tr>\n",
       "      <th>470</th>\n",
       "      <td>12599</td>\n",
       "    </tr>\n",
       "    <tr>\n",
       "      <th>...</th>\n",
       "      <td>...</td>\n",
       "    </tr>\n",
       "    <tr>\n",
       "      <th>148</th>\n",
       "      <td>9999</td>\n",
       "    </tr>\n",
       "    <tr>\n",
       "      <th>46</th>\n",
       "      <td>7999</td>\n",
       "    </tr>\n",
       "    <tr>\n",
       "      <th>93</th>\n",
       "      <td>9999</td>\n",
       "    </tr>\n",
       "    <tr>\n",
       "      <th>407</th>\n",
       "      <td>8999</td>\n",
       "    </tr>\n",
       "    <tr>\n",
       "      <th>182</th>\n",
       "      <td>1599</td>\n",
       "    </tr>\n",
       "  </tbody>\n",
       "</table>\n",
       "<p>109 rows × 1 columns</p>\n",
       "</div>"
      ],
      "text/plain": [
       "     Price\n",
       "229   8499\n",
       "73    6299\n",
       "352  19499\n",
       "86   10999\n",
       "470  12599\n",
       "..     ...\n",
       "148   9999\n",
       "46    7999\n",
       "93    9999\n",
       "407   8999\n",
       "182   1599\n",
       "\n",
       "[109 rows x 1 columns]"
      ]
     },
     "execution_count": 90,
     "metadata": {},
     "output_type": "execute_result"
    }
   ],
   "source": [
    "y_test"
   ]
  },
  {
   "cell_type": "code",
   "execution_count": 91,
   "metadata": {
    "id": "_TwBIIuotHbf"
   },
   "outputs": [],
   "source": [
    "from sklearn.ensemble import RandomForestRegressor"
   ]
  },
  {
   "cell_type": "code",
   "execution_count": 92,
   "metadata": {
    "id": "MvJTomO1tHdq"
   },
   "outputs": [],
   "source": [
    "Rfr=RandomForestRegressor()"
   ]
  },
  {
   "cell_type": "code",
   "execution_count": 93,
   "metadata": {
    "colab": {
     "base_uri": "https://localhost:8080/",
     "height": 80
    },
    "id": "xARqK44MtHjA",
    "outputId": "683afec0-04ba-4a94-cb66-dc5ee0991bb6"
   },
   "outputs": [
    {
     "data": {
      "text/plain": [
       "RandomForestRegressor()"
      ]
     },
     "execution_count": 93,
     "metadata": {},
     "output_type": "execute_result"
    }
   ],
   "source": [
    "Rfr.fit(X_train,y_train)"
   ]
  },
  {
   "cell_type": "code",
   "execution_count": 94,
   "metadata": {
    "id": "TbR1GiZStHnT"
   },
   "outputs": [],
   "source": [
    "y_predict=Rfr.predict(X_test)"
   ]
  },
  {
   "cell_type": "code",
   "execution_count": 95,
   "metadata": {
    "colab": {
     "base_uri": "https://localhost:8080/"
    },
    "id": "BL7N3KJVuI9R",
    "outputId": "4ce755ea-2be9-427e-b98d-1340ae5f6c97"
   },
   "outputs": [
    {
     "name": "stdout",
     "output_type": "stream",
     "text": [
      "0.7107862217604434\n",
      "1862.578900393185\n",
      "39861697.05529761\n"
     ]
    }
   ],
   "source": [
    "print(r2_score(y_test,y_predict))\n",
    "print(mean_absolute_error(y_test,y_predict))\n",
    "print(mean_squared_error(y_test,y_predict))"
   ]
  },
  {
   "cell_type": "code",
   "execution_count": 96,
   "metadata": {
    "colab": {
     "base_uri": "https://localhost:8080/"
    },
    "id": "RBKPQGUT3Giy",
    "outputId": "04edc28d-8933-412d-d12a-b996cfad01b5"
   },
   "outputs": [
    {
     "name": "stdout",
     "output_type": "stream",
     "text": [
      "Training Accuracy 0.9772445482124992\n",
      "Testing Score 0.7107862217604434\n"
     ]
    }
   ],
   "source": [
    "#Training Score\n",
    "print(\"Training Accuracy\",Rfr.score(X_train,y_train))\n",
    "#Testing Score\n",
    "print(\"Testing Score\",Rfr.score(X_test,y_test))"
   ]
  },
  {
   "cell_type": "code",
   "execution_count": 97,
   "metadata": {
    "id": "CLPf5CGzuJBS"
   },
   "outputs": [],
   "source": [
    "from xgboost import XGBRegressor"
   ]
  },
  {
   "cell_type": "code",
   "execution_count": 98,
   "metadata": {
    "id": "jxW1TygkuJGM"
   },
   "outputs": [],
   "source": [
    "xgb=XGBRegressor(gamma=0.1)"
   ]
  },
  {
   "cell_type": "code",
   "execution_count": 99,
   "metadata": {
    "colab": {
     "base_uri": "https://localhost:8080/",
     "height": 254
    },
    "id": "TsERL51GuJKJ",
    "outputId": "f8cc9460-97b6-4801-dfec-f75e6974f302"
   },
   "outputs": [
    {
     "data": {
      "text/plain": [
       "XGBRegressor(base_score=None, booster=None, callbacks=None,\n",
       "             colsample_bylevel=None, colsample_bynode=None,\n",
       "             colsample_bytree=None, early_stopping_rounds=None,\n",
       "             enable_categorical=False, eval_metric=None, feature_types=None,\n",
       "             gamma=0.1, gpu_id=None, grow_policy=None, importance_type=None,\n",
       "             interaction_constraints=None, learning_rate=None, max_bin=None,\n",
       "             max_cat_threshold=None, max_cat_to_onehot=None,\n",
       "             max_delta_step=None, max_depth=None, max_leaves=None,\n",
       "             min_child_weight=None, missing=nan, monotone_constraints=None,\n",
       "             n_estimators=100, n_jobs=None, num_parallel_tree=None,\n",
       "             predictor=None, random_state=None, ...)"
      ]
     },
     "execution_count": 99,
     "metadata": {},
     "output_type": "execute_result"
    }
   ],
   "source": [
    "xgb.fit(X_train,y_train)"
   ]
  },
  {
   "cell_type": "code",
   "execution_count": 100,
   "metadata": {
    "id": "qD7ciAzZuJN5"
   },
   "outputs": [],
   "source": [
    "y_predict=xgb.predict(X_test)"
   ]
  },
  {
   "cell_type": "code",
   "execution_count": 101,
   "metadata": {
    "colab": {
     "base_uri": "https://localhost:8080/"
    },
    "id": "ywBuqqFOtHqm",
    "outputId": "c8f21696-2417-48b7-8947-bc4e93c424d9"
   },
   "outputs": [
    {
     "name": "stdout",
     "output_type": "stream",
     "text": [
      "0.7339962883327289\n",
      "1415.5383037602137\n",
      "36662704.78055408\n"
     ]
    }
   ],
   "source": [
    "print(r2_score(y_test,y_predict))\n",
    "print(mean_absolute_error(y_test,y_predict))\n",
    "print(mean_squared_error(y_test,y_predict))"
   ]
  },
  {
   "cell_type": "code",
   "execution_count": 102,
   "metadata": {
    "colab": {
     "base_uri": "https://localhost:8080/"
    },
    "id": "kCVxsOv05OkT",
    "outputId": "0fb13e46-7642-4ed0-b54d-a9324a40659b"
   },
   "outputs": [
    {
     "name": "stdout",
     "output_type": "stream",
     "text": [
      "Training Accuracy 0.9990717154547039\n",
      "Testing Score 0.7339962883327289\n"
     ]
    }
   ],
   "source": [
    "#Training Score\n",
    "print(\"Training Accuracy\",xgb.score(X_train,y_train))\n",
    "#Testing Score\n",
    "print(\"Testing Score\",xgb.score(X_test,y_test))"
   ]
  },
  {
   "cell_type": "code",
   "execution_count": 103,
   "metadata": {
    "id": "W9G6C9FWtHsv"
   },
   "outputs": [],
   "source": [
    "from sklearn.ensemble import AdaBoostRegressor"
   ]
  },
  {
   "cell_type": "code",
   "execution_count": 104,
   "metadata": {
    "id": "G5a_t6HCtHuu"
   },
   "outputs": [],
   "source": [
    "Adr=AdaBoostRegressor()"
   ]
  },
  {
   "cell_type": "code",
   "execution_count": 105,
   "metadata": {
    "colab": {
     "base_uri": "https://localhost:8080/",
     "height": 80
    },
    "id": "ghxM5K-CygZ7",
    "outputId": "49bf453f-750d-4271-c3c4-d26e1029de0f"
   },
   "outputs": [
    {
     "data": {
      "text/plain": [
       "AdaBoostRegressor()"
      ]
     },
     "execution_count": 105,
     "metadata": {},
     "output_type": "execute_result"
    }
   ],
   "source": [
    "Adr.fit(X_train,y_train)"
   ]
  },
  {
   "cell_type": "code",
   "execution_count": 106,
   "metadata": {
    "id": "fuqhLnlMygej"
   },
   "outputs": [],
   "source": [
    "y_predict=Adr.predict(X_test)"
   ]
  },
  {
   "cell_type": "code",
   "execution_count": 107,
   "metadata": {
    "colab": {
     "base_uri": "https://localhost:8080/"
    },
    "id": "FVUHyQSxygjs",
    "outputId": "f015462f-f5b7-4fe7-840a-c5c879c96ddd"
   },
   "outputs": [
    {
     "name": "stdout",
     "output_type": "stream",
     "text": [
      "0.6643900811211245\n",
      "4668.594253984811\n",
      "46256374.770712756\n"
     ]
    }
   ],
   "source": [
    "print(r2_score(y_test,y_predict))\n",
    "print(mean_absolute_error(y_test,y_predict))\n",
    "print(mean_squared_error(y_test,y_predict))"
   ]
  },
  {
   "cell_type": "code",
   "execution_count": 108,
   "metadata": {
    "colab": {
     "base_uri": "https://localhost:8080/"
    },
    "id": "Kca5plPF6OhD",
    "outputId": "ffb74814-43ec-4b66-9e49-1881bdd99275"
   },
   "outputs": [
    {
     "name": "stdout",
     "output_type": "stream",
     "text": [
      "Training Accuracy 0.7623550812826397\n",
      "Testing Score 0.6643900811211245\n"
     ]
    }
   ],
   "source": [
    "#Training Score\n",
    "print(\"Training Accuracy\",Adr.score(X_train,y_train))\n",
    "#Testing Score\n",
    "print(\"Testing Score\",Adr.score(X_test,y_test))"
   ]
  },
  {
   "cell_type": "code",
   "execution_count": 109,
   "metadata": {
    "colab": {
     "base_uri": "https://localhost:8080/"
    },
    "id": "LCPIvP1_0foo",
    "outputId": "5e28a5d4-2b9f-4c29-faab-40d0aeba2bf1"
   },
   "outputs": [
    {
     "name": "stdout",
     "output_type": "stream",
     "text": [
      "                 Model  R-squared         MAE           MSE\n",
      "0    Linear Regression    0.31450  4512.47090  9.447609e+07\n",
      "1        Decision Tree    0.67018  1561.08256  4.545833e+07\n",
      "2                  SVR   -0.01940  6986.08900  1.405072e+08\n",
      "3  Logistic Regression    0.32240  4729.79810  9.338593e+07\n",
      "4        Random Forest    0.71530  1846.68800  3.923139e+07\n",
      "5              XGBoost    0.75600  1327.11000  3.356772e+07\n",
      "6             AdaBoost    0.64000  4742.00000  4.866806e+07\n"
     ]
    }
   ],
   "source": [
    "import pandas as pd\n",
    "\n",
    "# Assuming you have the following scores from different models\n",
    "lr_r2 = 0.3145  # Replace with your actual r2_score\n",
    "lr_mae = 4512.4709  # Replace with your actual mean_absolute_error\n",
    "lr_mse = 94476093.1032 # Replace with your actual mean_squared_error\n",
    "\n",
    "dt_r2 = 0.67018 # Replace with your actual r2_score\n",
    "dt_mae = 1561.08256  # Replace with your actual mean_absolute_error\n",
    "dt_mse = 45458331.1192 # Replace with your actual mean_squared_error\n",
    "\n",
    "sv_r2 = -0.0194 # Replace with your actual r2_score\n",
    "sv_mae = 6986.0890 # Replace with your actual mean_absolute_error\n",
    "sv_mse = 140507179.4599 # Replace with your actual mean_squared_error\n",
    "\n",
    "lor_r2 = 0.3224  # Replace with your actual r2_score\n",
    "lor_mae = 4729.7981 # Replace with your actual mean_absolute_error\n",
    "lor_mse = 93385926.33  # Replace with your actual mean_squared_error\n",
    "\n",
    "rfr_r2 = 0.7153  # Replace with your actual r2_score\n",
    "rfr_mae = 1846.688  # Replace with your actual mean_absolute_error\n",
    "rfr_mse = 39231390.77 # Replace with your actual mean_squared_error\n",
    "\n",
    "xgb_r2 = 0.756  # Replace with your actual r2_score\n",
    "xgb_mae =1327.11  # Replace with your actual mean_absolute_error\n",
    "xgb_mse = 33567717.59 # Replace with your actual mean_squared_error\n",
    "\n",
    "adr_r2 = 0.64  # Replace with your actual r2_score\n",
    "adr_mae = 4742 # Replace with your actual mean_absolute_error\n",
    "adr_mse = 48668064 # Replace with your actual mean_squared_error\n",
    "\n",
    "# Create a dictionary to store the scores\n",
    "data = {\n",
    "    'Model': ['Linear Regression', 'Decision Tree', 'SVR', 'Logistic Regression', 'Random Forest', 'XGBoost', 'AdaBoost'],\n",
    "    'R-squared': [lr_r2, dt_r2, sv_r2, lor_r2, rfr_r2, xgb_r2, adr_r2],\n",
    "    'MAE': [lr_mae, dt_mae, sv_mae, lor_mae, rfr_mae, xgb_mae, adr_mae],\n",
    "    'MSE': [lr_mse, dt_mse, sv_mse, lor_mse, rfr_mse, xgb_mse, adr_mse]\n",
    "}\n",
    "\n",
    "# Create a pandas DataFrame\n",
    "df_scores = pd.DataFrame(data)\n",
    "\n",
    "# Display the table\n",
    "print(df_scores)\n"
   ]
  },
  {
   "cell_type": "code",
   "execution_count": 110,
   "metadata": {
    "colab": {
     "base_uri": "https://localhost:8080/",
     "height": 607
    },
    "id": "xEaD-FBf_9PG",
    "outputId": "bf2df0cd-dca9-4cec-cd88-b19180a65b02"
   },
   "outputs": [
    {
     "data": {
      "image/png": "[encoded data removed]",
      "text/plain": [
       "<Figure size 864x432 with 1 Axes>"
      ]
     },
     "metadata": {},
     "output_type": "display_data"
    }
   ],
   "source": [
    "#Train Test Score Model wise bar Plotting\n",
    "\n",
    "import matplotlib.pyplot as plt\n",
    "\n",
    "# Assuming you have the following scores from different models\n",
    "lr_train_score = lr.score(X_train, y_train)\n",
    "lr_test_score = lr.score(X_test, y_test)\n",
    "\n",
    "dt_train_score = dt.score(X_train, y_train)\n",
    "dt_test_score = dt.score(X_test, y_test)\n",
    "\n",
    "sv_train_score = sv.score(X_train, y_train)\n",
    "sv_test_score = sv.score(X_test, y_test)\n",
    "\n",
    "lor_train_score = lor.score(X_train, y_train)\n",
    "lor_test_score = lor.score(X_test, y_test)\n",
    "\n",
    "rfr_train_score = Rfr.score(X_train, y_train)\n",
    "rfr_test_score = Rfr.score(X_test, y_test)\n",
    "\n",
    "xgb_train_score = xgb.score(X_train, y_train)\n",
    "xgb_test_score = xgb.score(X_test, y_test)\n",
    "\n",
    "adr_train_score = Adr.score(X_train, y_train)\n",
    "adr_test_score = Adr.score(X_test, y_test)\n",
    "\n",
    "# Create a dictionary to store the scores\n",
    "data = {\n",
    "    'Model': ['Linear Regression', 'Decision Tree', 'SVR', 'Logistic Regression', 'Random Forest', 'XGBoost', 'AdaBoost'],\n",
    "    'Training Score': [lr_train_score, dt_train_score, sv_train_score, lor_train_score, rfr_train_score, xgb_train_score, adr_train_score],\n",
    "    'Testing Score': [lr_test_score, dt_test_score, sv_test_score, lor_test_score, rfr_test_score, xgb_test_score, adr_test_score]\n",
    "}\n",
    "\n",
    "# Create a pandas DataFrame\n",
    "df_scores = pd.DataFrame(data)\n",
    "\n",
    "# Set the width of the bars\n",
    "bar_width = 0.35\n",
    "\n",
    "# Set the positions of the bars on the x-axis\n",
    "r1 = range(len(df_scores))\n",
    "r2 = [x + bar_width for x in r1]\n",
    "\n",
    "# Create the bar plot\n",
    "plt.figure(figsize=(12, 6))\n",
    "plt.bar(r1, df_scores['Training Score'], color='blue', width=bar_width, label='Training Score')\n",
    "plt.bar(r2, df_scores['Testing Score'], color='green', width=bar_width, label='Testing Score')\n",
    "\n",
    "# Set the x-axis labels\n",
    "plt.xticks([r + bar_width/2  for r in range(len(df_scores))], df_scores['Model'], rotation=45, ha='right')\n",
    "\n",
    "# Add a legend\n",
    "plt.legend()\n",
    "\n",
    "# Add a title and labels\n",
    "plt.title('Model-wise Training and Testing Scores')\n",
    "plt.xlabel('Model')\n",
    "plt.ylabel('Score')\n",
    "\n",
    "# Display the plot\n",
    "plt.tight_layout()\n",
    "plt.show()\n"
   ]
  },
  {
   "cell_type": "code",
   "execution_count": 111,
   "metadata": {
    "colab": {
     "base_uri": "https://localhost:8080/"
    },
    "id": "hA2mj465V3l1",
    "outputId": "5207b96a-3c03-47d8-efc5-9978473aeaf2"
   },
   "outputs": [
    {
     "name": "stdout",
     "output_type": "stream",
     "text": [
      "Linear Regression:\n",
      "  Mean R-squared: -3.3614\n",
      "  Standard Deviation: 7.0993\n",
      "\n",
      "Decision Tree:\n",
      "  Mean R-squared: -0.1478\n",
      "  Standard Deviation: 1.3918\n",
      "\n",
      "SVR:\n",
      "  Mean R-squared: -0.2644\n",
      "  Standard Deviation: 0.2597\n",
      "\n",
      "Logistic Regression:\n",
      "  Mean R-squared: 0.1853\n",
      "  Standard Deviation: 0.0380\n",
      "\n",
      "Random Forest:\n",
      "  Mean R-squared: 0.3338\n",
      "  Standard Deviation: 0.4045\n",
      "\n",
      "XGBoost:\n",
      "  Mean R-squared: 0.3901\n",
      "  Standard Deviation: 0.3191\n",
      "\n",
      "AdaBoost:\n",
      "  Mean R-squared: 0.2675\n",
      "  Standard Deviation: 0.5616\n",
      "\n"
     ]
    }
   ],
   "source": [
    "\n",
    "from sklearn.model_selection import cross_val_score\n",
    "\n",
    "# Define the number of folds for cross-validation\n",
    "n_folds = 5  # You can adjust this value as needed\n",
    "\n",
    "# Create a dictionary to store the cross-validation scores for each model\n",
    "cv_scores = {}\n",
    "\n",
    "# Perform cross-validation for each model\n",
    "models = {\n",
    "    'Linear Regression': lr,\n",
    "    'Decision Tree': dt,\n",
    "    'SVR': sv,\n",
    "    'Logistic Regression': lor,\n",
    "    'Random Forest': Rfr,\n",
    "    'XGBoost': xgb,\n",
    "    'AdaBoost': Adr\n",
    "}\n",
    "\n",
    "for model_name, model in models.items():\n",
    "    scores = cross_val_score(model, X, y, cv=n_folds, scoring='r2')\n",
    "    cv_scores[model_name] = scores\n",
    "\n",
    "# Display the cross-validation scores\n",
    "for model_name, scores in cv_scores.items():\n",
    "    print(f'{model_name}:')\n",
    "    print(f'  Mean R-squared: {scores.mean():.4f}')\n",
    "    print(f'  Standard Deviation: {scores.std():.4f}')\n",
    "    print()\n",
    "\n"
   ]
  },
  {
   "cell_type": "code",
   "execution_count": 112,
   "metadata": {
    "colab": {
     "base_uri": "https://localhost:8080/",
     "height": 635
    },
    "id": "n--S9nPr35Ev",
    "outputId": "1bcc1ff2-a8b5-4e38-c922-e5d5092e94cf"
   },
   "outputs": [
    {
     "data": {
      "image/png": "[encoded data removed]",
      "text/plain": [
       "<Figure size 720x432 with 1 Axes>"
      ]
     },
     "metadata": {},
     "output_type": "display_data"
    }
   ],
   "source": [
    "# k cross validation of models in plots\n",
    "\n",
    "import matplotlib.pyplot as plt\n",
    "\n",
    "# Assuming you have the cv_scores dictionary from the previous code\n",
    "\n",
    "# Create a box plot to visualize the cross-validation scores\n",
    "plt.figure(figsize=(10, 6))\n",
    "plt.boxplot([scores for scores in cv_scores.values()], labels=cv_scores.keys())\n",
    "plt.title('Cross-Validation R-squared Scores for Different Models')\n",
    "plt.ylabel('R-squared')\n",
    "plt.xticks(rotation=45, ha='right')\n",
    "plt.show()\n"
   ]
  },
  {
   "cell_type": "code",
   "execution_count": null,
   "metadata": {
    "id": "BC4-0qt_35Gv"
   },
   "outputs": [],
   "source": []
  }
 ],
 "metadata": {
  "colab": {
   "authorship_tag": "ABX9TyOF6xbF4JSQ1HluVmpx4JBF",
   "include_colab_link": true,
   "provenance": []
  },
  "kernelspec": {
   "display_name": "Python 3 (ipykernel)",
   "language": "python",
   "name": "python3"
  },
  "language_info": {
   "codemirror_mode": {
    "name": "ipython",
    "version": 3
   },
   "file_extension": ".py",
   "mimetype": "text/x-python",
   "name": "python",
   "nbconvert_exporter": "python",
   "pygments_lexer": "ipython3",
   "version": "3.9.12"
  }
 },
 "nbformat": 4,
 "nbformat_minor": 1
}
